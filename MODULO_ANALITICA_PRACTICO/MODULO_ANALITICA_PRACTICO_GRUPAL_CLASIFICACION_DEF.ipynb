{
 "cells": [
  {
   "cell_type": "code",
   "execution_count": 1,
   "metadata": {},
   "outputs": [
    {
     "name": "stderr",
     "output_type": "stream",
     "text": [
      "[MLENS] backend: threading\n"
     ]
    }
   ],
   "source": [
    "import warnings\n",
    "warnings.filterwarnings('ignore')\n",
    "from numpy import set_printoptions\n",
    "from pandas.plotting import scatter_matrix\n",
    "import matplotlib.pyplot as plt\n",
    "import numpy as np \n",
    "import pandas as pd \n",
    "pd.options.display.max_columns=None\n",
    "import seaborn as sns \n",
    "from pandas import read_csv\n",
    "import io\n",
    "import base64\n",
    "import json\n",
    "from openpyxl import Workbook\n",
    "from openpyxl.drawing.image import Image as XLImage\n",
    "\n",
    "import os\n",
    "import os.path\n",
    "from unidecode import unidecode\n",
    "\n",
    "from urllib.error import HTTPError\n",
    "\n",
    "from google.auth.transport.requests import Request\n",
    "from google.oauth2.credentials import Credentials\n",
    "from google_auth_oauthlib.flow import InstalledAppFlow\n",
    "from googleapiclient.discovery import build\n",
    "from googleapiclient.errors import HttpError\n",
    "from googleapiclient.http import MediaIoBaseDownload\n",
    "from sklearn.model_selection import StratifiedKFold\n",
    "\n",
    "from sklearn.preprocessing import LabelEncoder\n",
    "from sklearn.preprocessing import MinMaxScaler\n",
    "from sklearn.preprocessing import StandardScaler\n",
    "from sklearn.preprocessing import Normalizer\n",
    "from sklearn.preprocessing import RobustScaler\n",
    "from sklearn.preprocessing import PowerTransformer\n",
    "\n",
    "from sklearn.model_selection import GridSearchCV\n",
    "from sklearn.model_selection import KFold\n",
    "from sklearn.model_selection import train_test_split\n",
    "from sklearn.model_selection import cross_val_score\n",
    "\n",
    "from sklearn.neighbors import KNeighborsClassifier\n",
    "from sklearn.tree import DecisionTreeClassifier\n",
    "from sklearn.discriminant_analysis import LinearDiscriminantAnalysis\n",
    "from sklearn.naive_bayes import GaussianNB\n",
    "from sklearn.linear_model import LogisticRegression \n",
    "from catboost import CatBoostClassifier\n",
    "from xgboost import XGBClassifier\n",
    "from sklearn.svm import SVC\n",
    "from lightgbm import LGBMClassifier\n",
    "from mlens.ensemble import SuperLearner\n",
    "\n",
    "\n",
    "from sklearn.ensemble import AdaBoostClassifier \n",
    "from sklearn.ensemble import ExtraTreesClassifier\n",
    "from sklearn.ensemble import BaggingClassifier\n",
    "from sklearn.ensemble import GradientBoostingClassifier\n",
    "from sklearn.ensemble import VotingClassifier\n",
    "from sklearn.ensemble import RandomForestClassifier\n",
    "from sklearn.ensemble import StackingClassifier\n",
    "\n",
    "from sklearn.metrics import accuracy_score, precision_score, recall_score, f1_score, classification_report\n",
    "from sklearn.metrics import normalized_mutual_info_score\n",
    "from sklearn.metrics import cohen_kappa_score"
   ]
  },
  {
   "cell_type": "code",
   "execution_count": 2,
   "metadata": {},
   "outputs": [],
   "source": [
    "variables_por_carrera = { \n",
    "    'industrial': {\n",
    "        '1': ['PG_ICFES', 'CON_MAT_ICFES', 'FISICA_ICFES','QUIMICA_ICFES','IDIOMA_ICFES','LOCALIDAD','RENDIMIENTO_UNO'],\n",
    "        '2': ['LOCALIDAD_COLEGIO', 'PG_ICFES', 'CON_MAT_ICFES', 'FISICA_ICFES', 'BIOLOGIA_ICFES', 'IDIOMA_ICFES', 'LOCALIDAD', 'PROMEDIO_UNO', 'CAR_UNO', 'NCC_UNO', 'NAA_UNO', 'NOTA_DIFERENCIAL', 'NOTA_DIBUJO', 'NOTA_QUIMICA', 'NOTA_CFJC', 'NOTA_TEXTOS', 'NOTA_SEMINARIO', 'NOTA_EE_UNO','RENDIMIENTO_DOS'],\n",
    "        '3': ['PROMEDIO_UNO', 'NAA_UNO', 'NOTA_DIFERENCIAL', 'NOTA_DIBUJO', 'NOTA_TEXTOS', 'NOTA_EE_UNO', 'PROMEDIO_DOS', 'NCC_DOS', 'NCA_DOS', 'NAA_DOS', 'NOTA_ALGEBRA', 'NOTA_INTEGRAL', 'NOTA_MATERIALES', 'NOTA_PBASICA', 'NOTA_EE_DOS', 'RENDIMIENTO_TRES'],\n",
    "        '4': ['PROMEDIO_UNO', 'NOTA_EE_UNO', 'PROMEDIO_DOS', 'NOTA_ALGEBRA', 'NOTA_INTEGRAL', 'NOTA_MATERIALES', 'NOTA_EE_DOS', 'NAA_TRES', 'NOTA_MULTIVARIADO', 'NOTA_ESTADISTICA_UNO', 'NOTA_TERMODINAMICA', 'NOTA_TGS', 'NOTA_EE_TRES','RENDIMIENTO_CUATRO'],\n",
    "        '5': ['PROMEDIO_UNO', 'PROMEDIO_DOS', 'NOTA_ALGEBRA', 'NOTA_INTEGRAL', 'NOTA_MATERIALES', 'NOTA_EE_DOS','PROMEDIO_TRES', 'NAA_TRES', 'NOTA_MULTIVARIADO', 'NOTA_TERMODINAMICA', 'NOTA_ECUACIONES', 'NOTA_ESTADISTICA_DOS', 'NOTA_FISICA_DOS', 'NOTA_MECANICA', 'NOTA_PROCESOSQ', 'RENDIMIENTO_CINCO'],\n",
    "        '6': ['PROMEDIO_UNO', 'PROMEDIO_DOS', 'NOTA_MATERIALES', 'NOTA_EE_DOS', 'PROMEDIO_TRES', 'NOTA_MULTIVARIADO', 'NOTA_FISICA_DOS', 'NOTA_EE_CUATRO', 'PROMEDIO_CINCO', 'NOTA_PROCESOSM', 'NOTA_ADMINISTRACION', 'NOTA_LENGUA_UNO', 'NOTA_EI_UNO', 'NOTA_EI_DOS', 'RENDIMIENTO_SEIS'],\n",
    "        '7': ['PROMEDIO_UNO', 'PROMEDIO_DOS', 'NOTA_EE_DOS', 'PROMEDIO_TRES', 'NOTA_MULTIVARIADO', 'NOTA_FISICA_DOS', 'PROMEDIO_CINCO', 'NOTA_PROCESOSM', 'NOTA_LENGUA_UNO', 'NOTA_EI_DOS', 'PROMEDIO_SEIS', 'NCA_SEIS', 'NOTA_PLINEAL', 'NOTA_DISENO', 'NOTA_EI_TRES','RENDIMIENTO_SIETE'],\n",
    "        '8': ['PROMEDIO_DOS', 'NOTA_EE_CUATRO', 'PROMEDIO_CINCO', 'NOTA_LENGUA_UNO','PROMEDIO_SEIS', 'NOTA_IECONOMICA', 'PROMEDIO_SIETE', 'NAA_SIETE', 'NOTA_GRAFOS', 'NOTA_CALIDAD_UNO', 'NOTA_ERGONOMIA', 'NOTA_EI_CINCO', 'RENDIMIENTO_OCHO'],\n",
    "        '9': ['PROMEDIO_DOS', 'NOTA_EE_CUATRO', 'PROMEDIO_CINCO', 'PROMEDIO_SEIS', 'NOTA_IECONOMICA', 'PROMEDIO_SIETE', 'NAA_SIETE', 'NOTA_GRAFOS', 'NOTA_CALIDAD_UNO', 'NOTA_ERGONOMIA', 'NOTA_EI_CINCO', 'PROMEDIO_OCHO', 'NCC_OCHO', 'NOTA_LOG_UNO', 'NOTA_GOPERACIONES','NOTA_CALIDAD_DOS', 'NOTA_LENGUA_DOS', 'NOTA_CONTEXTO', 'RENDIMIENTO_NUEVE'],\n",
    "        '10': ['PROMEDIO_SEIS', 'PROMEDIO_SIETE', 'PROMEDIO_OCHO', 'NOTA_CALIDAD_DOS', 'PROMEDIO_NUEVE', 'NAA_NUEVE', 'NOTA_GRADO_UNO', 'NOTA_LOG_DOS', 'NOTA_FINANZAS', 'NOTA_HISTORIA', 'RENDIMIENTO_DIEZ']\n",
    "    },\n",
    "    'sistemas': {\n",
    "        '1': ['LOCALIDAD_COLEGIO', 'PG_ICFES', 'CON_MAT_ICFES', 'FISICA_ICFES', 'QUIMICA_ICFES', 'IDIOMA_ICFES', 'LOCALIDAD', 'RENDIMIENTO_UNO'],\n",
    "        '2': ['LOCALIDAD_COLEGIO', 'PG_ICFES', 'CON_MAT_ICFES', 'IDIOMA_ICFES', 'PROMEDIO_UNO', 'NOTA_DIFERENCIAL', 'NOTA_PROG_BASICA', 'NOTA_CATEDRA_FJC', 'NOTA_TEXTOS', 'NOTA_SEMINARIO', 'NOTA_CATEDRA_DEM', 'NOTA_CATEDRA_CON', 'NOTA_LOGICA', 'RENDIMIENTO_DOS'],\n",
    "        '3': ['LOCALIDAD_COLEGIO', 'PG_ICFES', 'CON_MAT_ICFES', 'IDIOMA_ICFES', 'PROMEDIO_UNO', 'PROMEDIO_DOS', 'NOTA_PROG_BASICA', 'NOTA_TEXTOS', 'NOTA_CATEDRA_DEM', 'NOTA_INTEGRAL', 'NOTA_PROG_ORIENTADA', 'NOTA_ETICA', 'RENDIMIENTO_TRES'],\n",
    "        '4': ['LOCALIDAD_COLEGIO', 'PG_ICFES', 'CON_MAT_ICFES', 'IDIOMA_ICFES', 'PROMEDIO_UNO', 'PROMEDIO_DOS', 'PROMEDIO_TRES', 'NOTA_PROG_BASICA', 'NOTA_TEXTOS', 'NOTA_CATEDRA_DEM', 'NOTA_INTEGRAL', 'NOTA_PROG_ORIENTADA', 'NOTA_ETICA', 'NOTA_FISICA_DOS', 'NOTA_TGS', 'NOTA_PROG_AVANZADA', 'RENDIMIENTO_CUATRO'],\n",
    "        '5': ['PROMEDIO_UNO', 'PROMEDIO_DOS', 'NOTA_ALGEBRA', 'NOTA_INTEGRAL', 'NOTA_MATERIALES', 'NOTA_EE_DOS', 'PROMEDIO_TRES', 'NAA_TRES', 'NOTA_MULTIVARIADO', 'NOTA_TERMODINAMICA', 'NOTA_ECUACIONES', 'NOTA_ESTADISTICA_DOS', 'NOTA_FISICA_DOS', 'NOTA_MECANICA', 'NOTA_PROCESOSQ', 'RENDIMIENTO_CINCO'],\n",
    "        '6': ['PROMEDIO_UNO', 'NOTA_EE_UNO', 'PROMEDIO_DOS', 'NOTA_MATERIALES', 'NOTA_EE_DOS', 'PROMEDIO_TRES', 'NOTA_MULTIVARIADO', 'NOTA_ECONOMIA_UNO', 'NOTA_FISICA_DOS', 'NOTA_EE_CUATRO', 'PROMEDIO_CINCO', 'NOTA_PROCESOSM', 'NOTA_ADMINISTRACION', 'NOTA_LENGUA_UNO', 'NOTA_EI_UNO', 'NOTA_EI_DOS', 'RENDIMIENTO_SEIS'],\n",
    "        '7': ['PROMEDIO_UNO', 'PROMEDIO_DOS', 'NOTA_EE_DOS', 'PROMEDIO_TRES', 'NOTA_MULTIVARIADO', 'NOTA_FISICA_DOS', 'PROMEDIO_CINCO', 'NOTA_PROCESOSM', 'NOTA_LENGUA_UNO', 'NOTA_EI_DOS', 'PROMEDIO_SEIS', 'NCA_SEIS', 'NOTA_PLINEAL', 'NOTA_DISE O', 'NOTA_EI_TRES', 'RENDIMIENTO_SIETE'],\n",
    "        '8': ['PROMEDIO_UNO', 'PROMEDIO_DOS', 'NOTA_EE_DOS', 'PROMEDIO_TRES', 'NOTA_MULTIVARIADO', 'NOTA_FISICA_DOS', 'NOTA_EE_CUATRO', 'PROMEDIO_CINCO', 'NOTA_LENGUA_UNO', 'PROMEDIO_SEIS', 'NOTA_IECONOMICA', 'PROMEDIO_SIETE', 'NAA_SIETE', 'NOTA_GRAFOS', 'NOTA_CALIDAD_UNO', 'NOTA_ERGONOMIA', 'NOTA_EI_CINCO', 'RENDIMIENTO_OCHO'],\n",
    "        '9': ['PROMEDIO_DOS', 'NOTA_EE_CUATRO', 'PROMEDIO_CINCO', 'PROMEDIO_SEIS', 'NOTA_IECONOMICA', 'PROMEDIO_SIETE', 'NAA_SIETE', 'NOTA_GRAFOS', 'NOTA_CALIDAD_UNO', 'NOTA_ERGONOMIA', 'NOTA_EI_CINCO', 'PROMEDIO_OCHO', 'NCC_OCHO', 'NOTA_LOG_UNO', 'NOTA_GOPERACIONES', 'NOTA_CALIDAD_DOS', 'NOTA_LENGUA_DOS', 'NOTA_CONTEXTO', 'RENDIMIENTO_NUEVE'],\n",
    "        '10': ['PROMEDIO_SEIS', 'PROMEDIO_SIETE', 'PROMEDIO_OCHO', 'NOTA_CALIDAD_DOS', 'PROMEDIO_NUEVE', 'NAA_NUEVE', 'NOTA_GRADO_UNO', 'NOTA_LOG_DOS', 'NOTA_FINANZAS', 'NOTA_HISTORIA', 'RENDIMIENTO_DIEZ']\n",
    "    },\n",
    "    'catastral': {\n",
    "        '1': ['variable1_catastral', 'variable2_catastral', 'variable3_catastral'],\n",
    "        '2': ['variable4_catastral', 'variable5_catastral', 'variable6_catastral']\n",
    "    }\n",
    "}"
   ]
  },
  {
   "cell_type": "code",
   "execution_count": 3,
   "metadata": {},
   "outputs": [],
   "source": [
    "variables_por_carrera2 = { \n",
    "    'industrial': {\n",
    "        '1': ['PG_ICFES', 'CON_MAT_ICFES', 'FISICA_ICFES','QUIMICA_ICFES','IDIOMA_ICFES','LOCALIDAD'],\n",
    "        '2': ['LOCALIDAD_COLEGIO', 'PG_ICFES', 'CON_MAT_ICFES', 'FISICA_ICFES', 'BIOLOGIA_ICFES', 'IDIOMA_ICFES', 'LOCALIDAD', 'PROMEDIO_UNO', 'CAR_UNO', 'NCC_UNO', 'NAA_UNO', 'NOTA_DIFERENCIAL', 'NOTA_DIBUJO', 'NOTA_QUIMICA', 'NOTA_CFJC', 'NOTA_TEXTOS', 'NOTA_SEMINARIO', 'NOTA_EE_UNO'],\n",
    "        '3': ['PROMEDIO_UNO', 'NAA_UNO', 'NOTA_DIFERENCIAL', 'NOTA_DIBUJO', 'NOTA_TEXTOS', 'NOTA_EE_UNO', 'PROMEDIO_DOS', 'NCC_DOS', 'NCA_DOS', 'NAA_DOS', 'NOTA_ALGEBRA', 'NOTA_INTEGRAL', 'NOTA_MATERIALES', 'NOTA_PBASICA', 'NOTA_EE_DOS'],\n",
    "        '4': ['PROMEDIO_UNO', 'NOTA_EE_UNO', 'PROMEDIO_DOS', 'NOTA_ALGEBRA', 'NOTA_INTEGRAL', 'NOTA_MATERIALES', 'NOTA_EE_DOS', 'NAA_TRES', 'NOTA_MULTIVARIADO', 'NOTA_ESTADISTICA_UNO', 'NOTA_TERMODINAMICA', 'NOTA_TGS', 'NOTA_EE_TRES'],\n",
    "        '5': ['PROMEDIO_UNO', 'PROMEDIO_DOS', 'NOTA_ALGEBRA', 'NOTA_INTEGRAL', 'NOTA_MATERIALES', 'NOTA_EE_DOS','PROMEDIO_TRES', 'NAA_TRES', 'NOTA_MULTIVARIADO', 'NOTA_TERMODINAMICA', 'NOTA_ECUACIONES', 'NOTA_ESTADISTICA_DOS', 'NOTA_FISICA_DOS', 'NOTA_MECANICA', 'NOTA_PROCESOSQ'],\n",
    "        '6': ['PROMEDIO_UNO', 'PROMEDIO_DOS', 'NOTA_MATERIALES', 'NOTA_EE_DOS', 'PROMEDIO_TRES', 'NOTA_MULTIVARIADO', 'NOTA_FISICA_DOS', 'NOTA_EE_CUATRO', 'PROMEDIO_CINCO', 'NOTA_PROCESOSM', 'NOTA_ADMINISTRACION', 'NOTA_LENGUA_UNO', 'NOTA_EI_UNO', 'NOTA_EI_DOS'],\n",
    "        '7': ['PROMEDIO_UNO', 'PROMEDIO_DOS', 'NOTA_EE_DOS', 'PROMEDIO_TRES', 'NOTA_MULTIVARIADO', 'NOTA_FISICA_DOS', 'PROMEDIO_CINCO', 'NOTA_PROCESOSM', 'NOTA_LENGUA_UNO', 'NOTA_EI_DOS', 'PROMEDIO_SEIS', 'NCA_SEIS', 'NOTA_PLINEAL', 'NOTA_DISENO', 'NOTA_EI_TRES'],\n",
    "        '8': ['PROMEDIO_DOS', 'NOTA_EE_CUATRO', 'PROMEDIO_CINCO', 'NOTA_LENGUA_UNO','PROMEDIO_SEIS', 'NOTA_IECONOMICA', 'PROMEDIO_SIETE', 'NAA_SIETE', 'NOTA_GRAFOS', 'NOTA_CALIDAD_UNO', 'NOTA_ERGONOMIA', 'NOTA_EI_CINCO'],\n",
    "        '9': ['PROMEDIO_DOS', 'NOTA_EE_CUATRO', 'PROMEDIO_CINCO', 'PROMEDIO_SEIS', 'NOTA_IECONOMICA', 'PROMEDIO_SIETE', 'NAA_SIETE', 'NOTA_GRAFOS', 'NOTA_CALIDAD_UNO', 'NOTA_ERGONOMIA', 'NOTA_EI_CINCO', 'PROMEDIO_OCHO', 'NCC_OCHO', 'NOTA_LOG_UNO', 'NOTA_GOPERACIONES','NOTA_CALIDAD_DOS', 'NOTA_LENGUA_DOS', 'NOTA_CONTEXTO'],\n",
    "        '10': ['PROMEDIO_SEIS', 'PROMEDIO_SIETE', 'PROMEDIO_OCHO', 'NOTA_CALIDAD_DOS', 'PROMEDIO_NUEVE', 'NAA_NUEVE', 'NOTA_GRADO_UNO', 'NOTA_LOG_DOS', 'NOTA_FINANZAS', 'NOTA_HISTORIA']\n",
    "    },\n",
    "    'sistemas': {\n",
    "        '1': ['LOCALIDAD_COLEGIO', 'PG_ICFES', 'CON_MAT_ICFES', 'FISICA_ICFES', 'QUIMICA_ICFES', 'IDIOMA_ICFES', 'LOCALIDAD',],\n",
    "        '2': ['LOCALIDAD_COLEGIO', 'PG_ICFES', 'CON_MAT_ICFES', 'IDIOMA_ICFES', 'PROMEDIO_UNO', 'NOTA_DIFERENCIAL', 'NOTA_PROG_BASICA', 'NOTA_CATEDRA_FJC', 'NOTA_TEXTOS', 'NOTA_SEMINARIO', 'NOTA_CATEDRA_DEM', 'NOTA_CATEDRA_CON', 'NOTA_LOGICA'],\n",
    "        '3': ['LOCALIDAD_COLEGIO', 'PG_ICFES', 'CON_MAT_ICFES', 'IDIOMA_ICFES', 'PROMEDIO_UNO', 'PROMEDIO_DOS', 'NOTA_PROG_BASICA', 'NOTA_TEXTOS', 'NOTA_CATEDRA_DEM', 'NOTA_INTEGRAL', 'NOTA_PROG_ORIENTADA', 'NOTA_ETICA'],\n",
    "        '4': ['LOCALIDAD_COLEGIO', 'PG_ICFES', 'CON_MAT_ICFES', 'IDIOMA_ICFES', 'PROMEDIO_UNO', 'PROMEDIO_DOS', 'PROMEDIO_TRES', 'NOTA_PROG_BASICA', 'NOTA_TEXTOS', 'NOTA_CATEDRA_DEM', 'NOTA_INTEGRAL', 'NOTA_PROG_ORIENTADA', 'NOTA_ETICA', 'NOTA_FISICA_DOS', 'NOTA_TGS', 'NOTA_PROG_AVANZADA'],\n",
    "        '5': ['PROMEDIO_UNO', 'PROMEDIO_DOS', 'NOTA_ALGEBRA', 'NOTA_INTEGRAL', 'NOTA_MATERIALES', 'NOTA_EE_DOS', 'PROMEDIO_TRES', 'NAA_TRES', 'NOTA_MULTIVARIADO', 'NOTA_TERMODINAMICA', 'NOTA_ECUACIONES', 'NOTA_ESTADISTICA_DOS', 'NOTA_FISICA_DOS', 'NOTA_MECANICA', 'NOTA_PROCESOSQ'],\n",
    "        '6': ['PROMEDIO_UNO', 'NOTA_EE_UNO', 'PROMEDIO_DOS', 'NOTA_MATERIALES', 'NOTA_EE_DOS', 'PROMEDIO_TRES', 'NOTA_MULTIVARIADO', 'NOTA_ECONOMIA_UNO', 'NOTA_FISICA_DOS', 'NOTA_EE_CUATRO', 'PROMEDIO_CINCO', 'NOTA_PROCESOSM', 'NOTA_ADMINISTRACION', 'NOTA_LENGUA_UNO', 'NOTA_EI_UNO', 'NOTA_EI_DOS'],\n",
    "        '7': ['PROMEDIO_UNO', 'PROMEDIO_DOS', 'NOTA_EE_DOS', 'PROMEDIO_TRES', 'NOTA_MULTIVARIADO', 'NOTA_FISICA_DOS', 'PROMEDIO_CINCO', 'NOTA_PROCESOSM', 'NOTA_LENGUA_UNO', 'NOTA_EI_DOS', 'PROMEDIO_SEIS', 'NCA_SEIS', 'NOTA_PLINEAL', 'NOTA_DISE O', 'NOTA_EI_TRES'],\n",
    "        '8': ['PROMEDIO_UNO', 'PROMEDIO_DOS', 'NOTA_EE_DOS', 'PROMEDIO_TRES', 'NOTA_MULTIVARIADO', 'NOTA_FISICA_DOS', 'NOTA_EE_CUATRO', 'PROMEDIO_CINCO', 'NOTA_LENGUA_UNO', 'PROMEDIO_SEIS', 'NOTA_IECONOMICA', 'PROMEDIO_SIETE', 'NAA_SIETE', 'NOTA_GRAFOS', 'NOTA_CALIDAD_UNO', 'NOTA_ERGONOMIA', 'NOTA_EI_CINCO'],\n",
    "        '9': ['PROMEDIO_DOS', 'NOTA_EE_CUATRO', 'PROMEDIO_CINCO', 'PROMEDIO_SEIS', 'NOTA_IECONOMICA', 'PROMEDIO_SIETE', 'NAA_SIETE', 'NOTA_GRAFOS', 'NOTA_CALIDAD_UNO', 'NOTA_ERGONOMIA', 'NOTA_EI_CINCO', 'PROMEDIO_OCHO', 'NCC_OCHO', 'NOTA_LOG_UNO', 'NOTA_GOPERACIONES', 'NOTA_CALIDAD_DOS', 'NOTA_LENGUA_DOS', 'NOTA_CONTEXTO'],\n",
    "        '10': ['PROMEDIO_SEIS', 'PROMEDIO_SIETE', 'PROMEDIO_OCHO', 'NOTA_CALIDAD_DOS', 'PROMEDIO_NUEVE', 'NAA_NUEVE', 'NOTA_GRADO_UNO', 'NOTA_LOG_DOS', 'NOTA_FINANZAS', 'NOTA_HISTORIA']\n",
    "    },\n",
    "    'catastral': {\n",
    "        '1': ['variable1_catastral', 'variable2_catastral', 'variable3_catastral'],\n",
    "        '2': ['variable4_catastral', 'variable5_catastral', 'variable6_catastral']\n",
    "    }\n",
    "}"
   ]
  },
  {
   "cell_type": "code",
   "execution_count": 4,
   "metadata": {},
   "outputs": [],
   "source": [
    "def cargar_datos(carrera, semestre):\n",
    "    \n",
    "    ruta_archivo = f'C:/Users/Intevo/Desktop/UNIVERSIDAD DISTRITAL PROYECTO FOLDER/UNIVERSIDAD-DISTRITAL-PROYECTO/MODULO_ANALITICA_PRACTICO/DATOS/{carrera}{semestre}.csv'\n",
    "    datos = pd.read_csv(ruta_archivo,sep=\";\")\n",
    "    ruta_archivo_prediccion= f'C:/Users/Intevo/Desktop/UNIVERSIDAD DISTRITAL PROYECTO FOLDER/UNIVERSIDAD-DISTRITAL-PROYECTO/MODULO_ANALITICA_PRACTICO/DATOS/{carrera}{semestre}_prediccion_grupal.csv'\n",
    "    datos_prediccion=pd.read_csv(ruta_archivo_prediccion,sep=';')\n",
    "    return datos,datos_prediccion\n",
    "carrera=\"industrial\"\n",
    "semestre=\"1\"\n"
   ]
  },
  {
   "cell_type": "code",
   "execution_count": 5,
   "metadata": {},
   "outputs": [
    {
     "name": "stdout",
     "output_type": "stream",
     "text": [
      "DataFrame con columnas filtradas:\n"
     ]
    },
    {
     "data": {
      "text/html": [
       "<div>\n",
       "<style scoped>\n",
       "    .dataframe tbody tr th:only-of-type {\n",
       "        vertical-align: middle;\n",
       "    }\n",
       "\n",
       "    .dataframe tbody tr th {\n",
       "        vertical-align: top;\n",
       "    }\n",
       "\n",
       "    .dataframe thead th {\n",
       "        text-align: right;\n",
       "    }\n",
       "</style>\n",
       "<table border=\"1\" class=\"dataframe\">\n",
       "  <thead>\n",
       "    <tr style=\"text-align: right;\">\n",
       "      <th></th>\n",
       "      <th>PG_ICFES</th>\n",
       "      <th>CON_MAT_ICFES</th>\n",
       "      <th>FISICA_ICFES</th>\n",
       "      <th>QUIMICA_ICFES</th>\n",
       "      <th>IDIOMA_ICFES</th>\n",
       "      <th>LOCALIDAD</th>\n",
       "      <th>RENDIMIENTO_UNO</th>\n",
       "    </tr>\n",
       "  </thead>\n",
       "  <tbody>\n",
       "    <tr>\n",
       "      <th>0</th>\n",
       "      <td>419</td>\n",
       "      <td>65</td>\n",
       "      <td>60</td>\n",
       "      <td>66</td>\n",
       "      <td>75</td>\n",
       "      <td>20</td>\n",
       "      <td>2</td>\n",
       "    </tr>\n",
       "    <tr>\n",
       "      <th>1</th>\n",
       "      <td>425</td>\n",
       "      <td>72</td>\n",
       "      <td>65</td>\n",
       "      <td>55</td>\n",
       "      <td>65</td>\n",
       "      <td>15</td>\n",
       "      <td>2</td>\n",
       "    </tr>\n",
       "    <tr>\n",
       "      <th>2</th>\n",
       "      <td>425</td>\n",
       "      <td>76</td>\n",
       "      <td>60</td>\n",
       "      <td>59</td>\n",
       "      <td>50</td>\n",
       "      <td>9</td>\n",
       "      <td>2</td>\n",
       "    </tr>\n",
       "    <tr>\n",
       "      <th>3</th>\n",
       "      <td>454</td>\n",
       "      <td>79</td>\n",
       "      <td>62</td>\n",
       "      <td>65</td>\n",
       "      <td>83</td>\n",
       "      <td>10</td>\n",
       "      <td>2</td>\n",
       "    </tr>\n",
       "    <tr>\n",
       "      <th>4</th>\n",
       "      <td>523</td>\n",
       "      <td>99</td>\n",
       "      <td>69</td>\n",
       "      <td>78</td>\n",
       "      <td>60</td>\n",
       "      <td>1</td>\n",
       "      <td>2</td>\n",
       "    </tr>\n",
       "    <tr>\n",
       "      <th>...</th>\n",
       "      <td>...</td>\n",
       "      <td>...</td>\n",
       "      <td>...</td>\n",
       "      <td>...</td>\n",
       "      <td>...</td>\n",
       "      <td>...</td>\n",
       "      <td>...</td>\n",
       "    </tr>\n",
       "    <tr>\n",
       "      <th>2012</th>\n",
       "      <td>302</td>\n",
       "      <td>59</td>\n",
       "      <td>0</td>\n",
       "      <td>0</td>\n",
       "      <td>58</td>\n",
       "      <td>20</td>\n",
       "      <td>1</td>\n",
       "    </tr>\n",
       "    <tr>\n",
       "      <th>2013</th>\n",
       "      <td>415</td>\n",
       "      <td>63</td>\n",
       "      <td>80</td>\n",
       "      <td>56</td>\n",
       "      <td>47</td>\n",
       "      <td>8</td>\n",
       "      <td>1</td>\n",
       "    </tr>\n",
       "    <tr>\n",
       "      <th>2014</th>\n",
       "      <td>350</td>\n",
       "      <td>66</td>\n",
       "      <td>0</td>\n",
       "      <td>0</td>\n",
       "      <td>55</td>\n",
       "      <td>20</td>\n",
       "      <td>2</td>\n",
       "    </tr>\n",
       "    <tr>\n",
       "      <th>2015</th>\n",
       "      <td>436</td>\n",
       "      <td>68</td>\n",
       "      <td>72</td>\n",
       "      <td>64</td>\n",
       "      <td>69</td>\n",
       "      <td>11</td>\n",
       "      <td>2</td>\n",
       "    </tr>\n",
       "    <tr>\n",
       "      <th>2016</th>\n",
       "      <td>412</td>\n",
       "      <td>60</td>\n",
       "      <td>66</td>\n",
       "      <td>50</td>\n",
       "      <td>46</td>\n",
       "      <td>11</td>\n",
       "      <td>3</td>\n",
       "    </tr>\n",
       "  </tbody>\n",
       "</table>\n",
       "<p>2017 rows × 7 columns</p>\n",
       "</div>"
      ],
      "text/plain": [
       "      PG_ICFES  CON_MAT_ICFES  FISICA_ICFES  QUIMICA_ICFES  IDIOMA_ICFES  \\\n",
       "0          419             65            60             66            75   \n",
       "1          425             72            65             55            65   \n",
       "2          425             76            60             59            50   \n",
       "3          454             79            62             65            83   \n",
       "4          523             99            69             78            60   \n",
       "...        ...            ...           ...            ...           ...   \n",
       "2012       302             59             0              0            58   \n",
       "2013       415             63            80             56            47   \n",
       "2014       350             66             0              0            55   \n",
       "2015       436             68            72             64            69   \n",
       "2016       412             60            66             50            46   \n",
       "\n",
       "      LOCALIDAD  RENDIMIENTO_UNO  \n",
       "0            20                2  \n",
       "1            15                2  \n",
       "2             9                2  \n",
       "3            10                2  \n",
       "4             1                2  \n",
       "...         ...              ...  \n",
       "2012         20                1  \n",
       "2013          8                1  \n",
       "2014         20                2  \n",
       "2015         11                2  \n",
       "2016         11                3  \n",
       "\n",
       "[2017 rows x 7 columns]"
      ]
     },
     "execution_count": 5,
     "metadata": {},
     "output_type": "execute_result"
    }
   ],
   "source": [
    "datos,datos_prediccion = cargar_datos(carrera, semestre)\n",
    "columnas_filtradas = variables_por_carrera[carrera][semestre]\n",
    "df = datos[columnas_filtradas]\n",
    "print(\"DataFrame con columnas filtradas:\")\n",
    "df=df.astype(int)\n",
    "df"
   ]
  },
  {
   "cell_type": "code",
   "execution_count": 6,
   "metadata": {},
   "outputs": [
    {
     "name": "stdout",
     "output_type": "stream",
     "text": [
      "DataFrame con columnas filtradas:\n"
     ]
    },
    {
     "data": {
      "text/html": [
       "<div>\n",
       "<style scoped>\n",
       "    .dataframe tbody tr th:only-of-type {\n",
       "        vertical-align: middle;\n",
       "    }\n",
       "\n",
       "    .dataframe tbody tr th {\n",
       "        vertical-align: top;\n",
       "    }\n",
       "\n",
       "    .dataframe thead th {\n",
       "        text-align: right;\n",
       "    }\n",
       "</style>\n",
       "<table border=\"1\" class=\"dataframe\">\n",
       "  <thead>\n",
       "    <tr style=\"text-align: right;\">\n",
       "      <th></th>\n",
       "      <th>PG_ICFES</th>\n",
       "      <th>CON_MAT_ICFES</th>\n",
       "      <th>FISICA_ICFES</th>\n",
       "      <th>QUIMICA_ICFES</th>\n",
       "      <th>IDIOMA_ICFES</th>\n",
       "      <th>LOCALIDAD</th>\n",
       "    </tr>\n",
       "  </thead>\n",
       "  <tbody>\n",
       "    <tr>\n",
       "      <th>0</th>\n",
       "      <td>419</td>\n",
       "      <td>65</td>\n",
       "      <td>60</td>\n",
       "      <td>66</td>\n",
       "      <td>75</td>\n",
       "      <td>20</td>\n",
       "    </tr>\n",
       "    <tr>\n",
       "      <th>1</th>\n",
       "      <td>425</td>\n",
       "      <td>72</td>\n",
       "      <td>65</td>\n",
       "      <td>55</td>\n",
       "      <td>65</td>\n",
       "      <td>15</td>\n",
       "    </tr>\n",
       "    <tr>\n",
       "      <th>2</th>\n",
       "      <td>425</td>\n",
       "      <td>76</td>\n",
       "      <td>60</td>\n",
       "      <td>59</td>\n",
       "      <td>50</td>\n",
       "      <td>9</td>\n",
       "    </tr>\n",
       "    <tr>\n",
       "      <th>3</th>\n",
       "      <td>454</td>\n",
       "      <td>79</td>\n",
       "      <td>62</td>\n",
       "      <td>65</td>\n",
       "      <td>83</td>\n",
       "      <td>10</td>\n",
       "    </tr>\n",
       "    <tr>\n",
       "      <th>4</th>\n",
       "      <td>523</td>\n",
       "      <td>99</td>\n",
       "      <td>69</td>\n",
       "      <td>78</td>\n",
       "      <td>60</td>\n",
       "      <td>1</td>\n",
       "    </tr>\n",
       "    <tr>\n",
       "      <th>...</th>\n",
       "      <td>...</td>\n",
       "      <td>...</td>\n",
       "      <td>...</td>\n",
       "      <td>...</td>\n",
       "      <td>...</td>\n",
       "      <td>...</td>\n",
       "    </tr>\n",
       "    <tr>\n",
       "      <th>324</th>\n",
       "      <td>451</td>\n",
       "      <td>67</td>\n",
       "      <td>64</td>\n",
       "      <td>65</td>\n",
       "      <td>83</td>\n",
       "      <td>11</td>\n",
       "    </tr>\n",
       "    <tr>\n",
       "      <th>325</th>\n",
       "      <td>437</td>\n",
       "      <td>74</td>\n",
       "      <td>62</td>\n",
       "      <td>57</td>\n",
       "      <td>56</td>\n",
       "      <td>19</td>\n",
       "    </tr>\n",
       "    <tr>\n",
       "      <th>326</th>\n",
       "      <td>429</td>\n",
       "      <td>77</td>\n",
       "      <td>62</td>\n",
       "      <td>59</td>\n",
       "      <td>68</td>\n",
       "      <td>8</td>\n",
       "    </tr>\n",
       "    <tr>\n",
       "      <th>327</th>\n",
       "      <td>429</td>\n",
       "      <td>90</td>\n",
       "      <td>52</td>\n",
       "      <td>58</td>\n",
       "      <td>50</td>\n",
       "      <td>8</td>\n",
       "    </tr>\n",
       "    <tr>\n",
       "      <th>328</th>\n",
       "      <td>439</td>\n",
       "      <td>77</td>\n",
       "      <td>61</td>\n",
       "      <td>56</td>\n",
       "      <td>57</td>\n",
       "      <td>11</td>\n",
       "    </tr>\n",
       "  </tbody>\n",
       "</table>\n",
       "<p>329 rows × 6 columns</p>\n",
       "</div>"
      ],
      "text/plain": [
       "     PG_ICFES  CON_MAT_ICFES  FISICA_ICFES  QUIMICA_ICFES  IDIOMA_ICFES  \\\n",
       "0         419             65            60             66            75   \n",
       "1         425             72            65             55            65   \n",
       "2         425             76            60             59            50   \n",
       "3         454             79            62             65            83   \n",
       "4         523             99            69             78            60   \n",
       "..        ...            ...           ...            ...           ...   \n",
       "324       451             67            64             65            83   \n",
       "325       437             74            62             57            56   \n",
       "326       429             77            62             59            68   \n",
       "327       429             90            52             58            50   \n",
       "328       439             77            61             56            57   \n",
       "\n",
       "     LOCALIDAD  \n",
       "0           20  \n",
       "1           15  \n",
       "2            9  \n",
       "3           10  \n",
       "4            1  \n",
       "..         ...  \n",
       "324         11  \n",
       "325         19  \n",
       "326          8  \n",
       "327          8  \n",
       "328         11  \n",
       "\n",
       "[329 rows x 6 columns]"
      ]
     },
     "execution_count": 6,
     "metadata": {},
     "output_type": "execute_result"
    }
   ],
   "source": [
    "datos,datos_prediccion = cargar_datos(carrera, semestre)\n",
    "columnas_filtradas = variables_por_carrera2[carrera][semestre]\n",
    "df_prediccion = datos_prediccion[columnas_filtradas]\n",
    "print(\"DataFrame con columnas filtradas:\")\n",
    "df_prediccion=df_prediccion.astype(int)\n",
    "df_prediccion"
   ]
  },
  {
   "cell_type": "code",
   "execution_count": 7,
   "metadata": {},
   "outputs": [
    {
     "name": "stdout",
     "output_type": "stream",
     "text": [
      "uno\n"
     ]
    }
   ],
   "source": [
    "def numero_a_letras(numero):\n",
    "    numeros_letras = ['cero', 'uno', 'dos', 'tres', 'cuatro', 'cinco', 'seis', 'siete', 'ocho', 'nueve', 'diez']\n",
    "    return numeros_letras[int(numero)]\n",
    "\n",
    "semestre_en_letras = numero_a_letras(semestre)\n",
    "print(semestre_en_letras)\n"
   ]
  },
  {
   "cell_type": "code",
   "execution_count": 8,
   "metadata": {},
   "outputs": [
    {
     "name": "stdout",
     "output_type": "stream",
     "text": [
      "Separación de datos usando Pandas\n",
      "(2017, 6) (2017, 1)\n"
     ]
    }
   ],
   "source": [
    "X = df.loc[:, ~df.columns.str.contains(f'RENDIMIENTO_{semestre_en_letras.upper()}')]\n",
    "Y = df.loc[:, df.columns.str.contains(f'RENDIMIENTO_{semestre_en_letras.upper()}')]                                                     \n",
    "print(\"Separación de datos usando Pandas\") \n",
    "print(X.shape, Y.shape)"
   ]
  },
  {
   "cell_type": "code",
   "execution_count": 9,
   "metadata": {},
   "outputs": [
    {
     "name": "stdout",
     "output_type": "stream",
     "text": [
      "(2017, 6) (2017,)\n"
     ]
    }
   ],
   "source": [
    "Y = LabelEncoder().fit_transform(Y.astype('str'))                \n",
    "print(X.shape, Y.shape)"
   ]
  },
  {
   "cell_type": "code",
   "execution_count": 10,
   "metadata": {},
   "outputs": [
    {
     "name": "stdout",
     "output_type": "stream",
     "text": [
      "[[ 0.531 -0.894  0.882  0.965  0.933  1.357]\n",
      " [ 0.651 -0.072  0.932  0.851  0.104  0.571]\n",
      " [ 0.651  0.391  0.882  0.895 -1.102 -0.488]\n",
      " [ 1.218  0.735  0.903  0.955  1.609 -0.3  ]\n",
      " [ 2.506  2.974  0.969  1.072 -0.304 -2.357]]\n"
     ]
    },
    {
     "data": {
      "text/html": [
       "<div>\n",
       "<style scoped>\n",
       "    .dataframe tbody tr th:only-of-type {\n",
       "        vertical-align: middle;\n",
       "    }\n",
       "\n",
       "    .dataframe tbody tr th {\n",
       "        vertical-align: top;\n",
       "    }\n",
       "\n",
       "    .dataframe thead th {\n",
       "        text-align: right;\n",
       "    }\n",
       "</style>\n",
       "<table border=\"1\" class=\"dataframe\">\n",
       "  <thead>\n",
       "    <tr style=\"text-align: right;\">\n",
       "      <th></th>\n",
       "      <th>PG_ICFES</th>\n",
       "      <th>CON_MAT_ICFES</th>\n",
       "      <th>FISICA_ICFES</th>\n",
       "      <th>QUIMICA_ICFES</th>\n",
       "      <th>IDIOMA_ICFES</th>\n",
       "      <th>LOCALIDAD</th>\n",
       "    </tr>\n",
       "  </thead>\n",
       "  <tbody>\n",
       "    <tr>\n",
       "      <th>0</th>\n",
       "      <td>0.531498</td>\n",
       "      <td>-0.894364</td>\n",
       "      <td>0.882446</td>\n",
       "      <td>0.964932</td>\n",
       "      <td>0.932902</td>\n",
       "      <td>1.357415</td>\n",
       "    </tr>\n",
       "    <tr>\n",
       "      <th>1</th>\n",
       "      <td>0.650897</td>\n",
       "      <td>-0.072118</td>\n",
       "      <td>0.931926</td>\n",
       "      <td>0.851488</td>\n",
       "      <td>0.103607</td>\n",
       "      <td>0.570899</td>\n",
       "    </tr>\n",
       "  </tbody>\n",
       "</table>\n",
       "</div>"
      ],
      "text/plain": [
       "   PG_ICFES  CON_MAT_ICFES  FISICA_ICFES  QUIMICA_ICFES  IDIOMA_ICFES  \\\n",
       "0  0.531498      -0.894364      0.882446       0.964932      0.932902   \n",
       "1  0.650897      -0.072118      0.931926       0.851488      0.103607   \n",
       "\n",
       "   LOCALIDAD  \n",
       "0   1.357415  \n",
       "1   0.570899  "
      ]
     },
     "execution_count": 10,
     "metadata": {},
     "output_type": "execute_result"
    }
   ],
   "source": [
    "X_T_JOHNSON1 = X.copy(deep=True)\n",
    "def transformacion_johnson(X):\n",
    "    transformador_johnson = PowerTransformer(method='yeo-johnson', standardize=True).fit(X)\n",
    "    datos_transformados = transformador_johnson.transform(X)\n",
    "    set_printoptions(precision=3)\n",
    "    print(datos_transformados[:5, :])\n",
    "    datos_transformados_df = pd.DataFrame(data=datos_transformados, columns=X.columns)\n",
    "    return datos_transformados_df\n",
    "Xpandas_T_JOHNSON1 = transformacion_johnson(X_T_JOHNSON1)\n",
    "Xpandas_T_JOHNSON1.head(2)"
   ]
  },
  {
   "cell_type": "code",
   "execution_count": 11,
   "metadata": {},
   "outputs": [
    {
     "name": "stdout",
     "output_type": "stream",
     "text": [
      "DATOS: Son 1411 datos para entrenamiento y 606 datos para prueba\n"
     ]
    }
   ],
   "source": [
    "X_trn, X_tst, Y_trn, Y_tst = train_test_split(Xpandas_T_JOHNSON1, Y, test_size=0.3, random_state=2)\n",
    "print('DATOS: Son {} datos para entrenamiento y {} datos para prueba'.format(X_trn.shape[0], X_tst.shape[0]))"
   ]
  },
  {
   "cell_type": "code",
   "execution_count": 12,
   "metadata": {},
   "outputs": [
    {
     "name": "stdout",
     "output_type": "stream",
     "text": [
      "Separación de datos usando Pandas\n",
      "(329, 6) (329, 0)\n"
     ]
    }
   ],
   "source": [
    "X_prediccion = df_prediccion.loc[:, ~df_prediccion.columns.str.contains(f'RENDIMIENTO_{semestre_en_letras.upper()}')]\n",
    "Y_prediccion = df_prediccion.loc[:, df_prediccion.columns.str.contains(f'RENDIMIENTO_{semestre_en_letras.upper()}')]                                                     \n",
    "print(\"Separación de datos usando Pandas\") \n",
    "print(X_prediccion.shape, Y_prediccion.shape)"
   ]
  },
  {
   "cell_type": "code",
   "execution_count": 13,
   "metadata": {},
   "outputs": [
    {
     "name": "stdout",
     "output_type": "stream",
     "text": [
      "[[-7.000e-01 -7.954e-01 -2.798e-01  6.410e-01  1.130e+00  1.858e+00]\n",
      " [-5.012e-01 -2.353e-02  4.003e-01 -6.398e-01  3.927e-01  9.656e-01]\n",
      " [-5.012e-01  3.907e-01 -2.798e-01 -1.061e-01 -1.033e+00 -2.337e-01]\n",
      " [ 3.873e-01  6.900e-01 -1.209e-03  5.463e-01  1.637e+00 -2.069e-02]\n",
      " [ 2.113e+00  2.480e+00  9.078e-01  1.550e+00 -3.209e-02 -2.340e+00]]\n"
     ]
    },
    {
     "data": {
      "text/html": [
       "<div>\n",
       "<style scoped>\n",
       "    .dataframe tbody tr th:only-of-type {\n",
       "        vertical-align: middle;\n",
       "    }\n",
       "\n",
       "    .dataframe tbody tr th {\n",
       "        vertical-align: top;\n",
       "    }\n",
       "\n",
       "    .dataframe thead th {\n",
       "        text-align: right;\n",
       "    }\n",
       "</style>\n",
       "<table border=\"1\" class=\"dataframe\">\n",
       "  <thead>\n",
       "    <tr style=\"text-align: right;\">\n",
       "      <th></th>\n",
       "      <th>PG_ICFES</th>\n",
       "      <th>CON_MAT_ICFES</th>\n",
       "      <th>FISICA_ICFES</th>\n",
       "      <th>QUIMICA_ICFES</th>\n",
       "      <th>IDIOMA_ICFES</th>\n",
       "      <th>LOCALIDAD</th>\n",
       "    </tr>\n",
       "  </thead>\n",
       "  <tbody>\n",
       "    <tr>\n",
       "      <th>0</th>\n",
       "      <td>-0.700004</td>\n",
       "      <td>-0.795373</td>\n",
       "      <td>-0.279768</td>\n",
       "      <td>0.641039</td>\n",
       "      <td>1.130423</td>\n",
       "      <td>1.857982</td>\n",
       "    </tr>\n",
       "    <tr>\n",
       "      <th>1</th>\n",
       "      <td>-0.501183</td>\n",
       "      <td>-0.023532</td>\n",
       "      <td>0.400294</td>\n",
       "      <td>-0.639813</td>\n",
       "      <td>0.392655</td>\n",
       "      <td>0.965575</td>\n",
       "    </tr>\n",
       "  </tbody>\n",
       "</table>\n",
       "</div>"
      ],
      "text/plain": [
       "   PG_ICFES  CON_MAT_ICFES  FISICA_ICFES  QUIMICA_ICFES  IDIOMA_ICFES  \\\n",
       "0 -0.700004      -0.795373     -0.279768       0.641039      1.130423   \n",
       "1 -0.501183      -0.023532      0.400294      -0.639813      0.392655   \n",
       "\n",
       "   LOCALIDAD  \n",
       "0   1.857982  \n",
       "1   0.965575  "
      ]
     },
     "execution_count": 13,
     "metadata": {},
     "output_type": "execute_result"
    }
   ],
   "source": [
    "X_T_JOHNSON2 = X_prediccion.copy(deep=True)\n",
    "def transformacion_johnson(X_prediccion):\n",
    "    transformador_johnson = PowerTransformer(method='yeo-johnson', standardize=True).fit(X_prediccion)\n",
    "    datos_transformados = transformador_johnson.transform(X_prediccion)\n",
    "    set_printoptions(precision=3)\n",
    "    print(datos_transformados[:5, :])\n",
    "    datos_transformados_df = pd.DataFrame(data=datos_transformados, columns=X_prediccion.columns)\n",
    "    return datos_transformados_df\n",
    "Xpandas_T_JOHNSON2 = transformacion_johnson(X_T_JOHNSON2)\n",
    "Xpandas_T_JOHNSON2.head(2)"
   ]
  },
  {
   "cell_type": "markdown",
   "metadata": {},
   "source": [
    "### KNEIGHBORSCLASSIFIER"
   ]
  },
  {
   "cell_type": "code",
   "execution_count": 14,
   "metadata": {},
   "outputs": [
    {
     "name": "stdout",
     "output_type": "stream",
     "text": [
      "Resultados de GridSearchCV para el modelo\n",
      "Mejor valor EXACTITUD usando k-fold: 58.11457396863451\n",
      "Mejor valor PARAMETRO usando k-fold: {'algorithm': 'auto', 'metric': 'manhattan', 'n_neighbors': 17, 'weights': 'uniform'}\n",
      "Resultados de GridSearchCV para el modelo\n",
      "Mejor valor EXACTITUD usando k-fold: 58.11457396863451\n",
      "Mejor valor PARAMETRO usando k-fold: {'algorithm': 'auto', 'metric': 'manhattan', 'n_neighbors': 17, 'weights': 'uniform'}\n"
     ]
    }
   ],
   "source": [
    "def entrenar_modelo_knn_con_transformacion(X_trn, Y_trn):\n",
    "    parameters = {\n",
    "        'n_neighbors': [i for i in range(1, 18, 1)],\n",
    "        'metric': ['euclidean', 'manhattan', 'minkowski'],\n",
    "        'algorithm': ['auto', 'kd_tree','ball_tree','brute'],\n",
    "        #'p': [i for i in range(1, 18,1)],\n",
    "        'weights': ['uniform']\n",
    "    }\n",
    "    modelo = KNeighborsClassifier()\n",
    "    semilla = 5\n",
    "    num_folds = 10\n",
    "    kfold = StratifiedKFold(n_splits=num_folds, random_state=semilla, shuffle=True)\n",
    "    metrica = 'accuracy'\n",
    "    grid = GridSearchCV(estimator=modelo, param_grid=parameters, scoring=metrica, cv=kfold, n_jobs=-1)\n",
    "    grid_resultado = grid.fit(X_trn, Y_trn)\n",
    "    mejores_hiperparametros_knn=grid_resultado.best_params_\n",
    "    print(\"Resultados de GridSearchCV para el modelo\")\n",
    "    print(\"Mejor valor EXACTITUD usando k-fold:\", grid_resultado.best_score_*100)\n",
    "    print(\"Mejor valor PARAMETRO usando k-fold:\", grid_resultado.best_params_)\n",
    "    mejor_modelo = KNeighborsClassifier(**grid_resultado.best_params_)\n",
    "    mejor_modelo.fit(X_trn, Y_trn)\n",
    "    return mejor_modelo ,grid_resultado.best_params_\n",
    "modelo_knn, mejores_hiperparametros_knn = entrenar_modelo_knn_con_transformacion(X_trn, Y_trn)\n",
    "mejores_hiperparametros_knn\n",
    "\n",
    "modelo_knn, mejores_hiperparametros_knn= entrenar_modelo_knn_con_transformacion(X_trn, Y_trn)\n"
   ]
  },
  {
   "cell_type": "code",
   "execution_count": 15,
   "metadata": {},
   "outputs": [
    {
     "data": {
      "text/plain": [
       "0.5973597359735974"
      ]
     },
     "execution_count": 15,
     "metadata": {},
     "output_type": "execute_result"
    }
   ],
   "source": [
    "Y_pred_prueba = modelo_knn.predict(X_tst)\n",
    "accuracy_knn = accuracy_score(Y_tst, Y_pred_prueba)\n",
    "accuracy_knn"
   ]
  },
  {
   "cell_type": "markdown",
   "metadata": {},
   "source": [
    "### SVC"
   ]
  },
  {
   "cell_type": "code",
   "execution_count": 16,
   "metadata": {},
   "outputs": [
    {
     "name": "stdout",
     "output_type": "stream",
     "text": [
      "Resultados de GridSearchCV para el modelo\n",
      "Mejor valor EXACTITUD usando k-fold: 55.41903905703725\n",
      "Mejor valor PARAMETRO usando k-fold: {'C': 0.0008, 'gamma': 1.0, 'kernel': 'rbf', 'max_iter': 1, 'random_state': 1}\n"
     ]
    },
    {
     "data": {
      "text/plain": [
       "{'C': 0.0008, 'gamma': 1.0, 'kernel': 'rbf', 'max_iter': 1, 'random_state': 1}"
      ]
     },
     "execution_count": 16,
     "metadata": {},
     "output_type": "execute_result"
    }
   ],
   "source": [
    "def entrenar_modelo_svc_con_transformacion(X_trn, Y_trn):\n",
    "    parameters = { 'kernel':   ['rbf', 'poly', 'sigmoid','linear'], \n",
    "                'C': [i/10000 for i in range(8,12,1)],\n",
    "                'max_iter':[i for i in range(1,3,1)],\n",
    "                'gamma' : [i/100 for i in range(80,110,5)],\n",
    "                'random_state':[i for i in range(1,5,1)],\n",
    "                }\n",
    "    modelo = SVC()\n",
    "    semilla=5\n",
    "    num_folds=10\n",
    "    kfold = StratifiedKFold(n_splits=num_folds, random_state=semilla, shuffle=True)\n",
    "    metrica = 'accuracy'\n",
    "    grid = GridSearchCV(estimator=modelo, param_grid=parameters, scoring=metrica, cv=kfold, n_jobs=-1)\n",
    "    grid_resultado = grid.fit(X_trn, Y_trn)\n",
    "    mejores_hiperparametros_svc=grid_resultado.best_params_\n",
    "    print(\"Resultados de GridSearchCV para el modelo\")\n",
    "    print(\"Mejor valor EXACTITUD usando k-fold:\", grid_resultado.best_score_*100)\n",
    "    print(\"Mejor valor PARAMETRO usando k-fold:\", grid_resultado.best_params_)\n",
    "    mejor_modelo = SVC(**grid_resultado.best_params_)\n",
    "    mejor_modelo.fit(X_trn, Y_trn)\n",
    "    return mejor_modelo ,grid_resultado.best_params_\n",
    "modelo_svc,mejores_hiperparametros_svc = entrenar_modelo_svc_con_transformacion(X_trn, Y_trn)\n",
    "mejores_hiperparametros_svc"
   ]
  },
  {
   "cell_type": "code",
   "execution_count": 17,
   "metadata": {},
   "outputs": [
    {
     "data": {
      "text/plain": [
       "0.6006600660066007"
      ]
     },
     "execution_count": 17,
     "metadata": {},
     "output_type": "execute_result"
    }
   ],
   "source": [
    "Y_pred_prueba = modelo_svc.predict(X_tst)\n",
    "accuracy_svc = accuracy_score(Y_tst, Y_pred_prueba)\n",
    "accuracy_svc"
   ]
  },
  {
   "cell_type": "markdown",
   "metadata": {},
   "source": [
    "### DECISION TREE"
   ]
  },
  {
   "cell_type": "code",
   "execution_count": 18,
   "metadata": {},
   "outputs": [
    {
     "name": "stdout",
     "output_type": "stream",
     "text": [
      "Resultados de GridSearchCV para el modelo\n",
      "Mejor valor EXACTITUD usando k-fold: 61.9408650484467\n",
      "Mejor valor PARAMETRO usando k-fold: {'max_depth': 4, 'max_features': 6, 'min_samples_leaf': 5, 'min_samples_split': 2, 'random_state': 1, 'splitter': 'random'}\n"
     ]
    }
   ],
   "source": [
    "def entrenar_modelo_tree_con_transformacion(X_trn, Y_trn):\n",
    "    parameters = {          \n",
    "              'max_depth':[i for i in range(1,7,1)],\n",
    "              'min_samples_split' :  [i for i in range(1,7,1)],  \n",
    "              'min_samples_leaf' : [i for i in range(1,7,1)], \n",
    "              'max_features' : [i for i in range(1,7,1)], \n",
    "              'splitter': [\"best\", \"random\"],\n",
    "              'random_state': [i for i in range(1,5,1)],\n",
    "              #'criterion': ['gini','entropy','log_loss']\n",
    "            \n",
    "}\n",
    "    modelo = DecisionTreeClassifier()\n",
    "    semilla=5\n",
    "    num_folds=10\n",
    "    kfold = StratifiedKFold(n_splits=num_folds, random_state=semilla, shuffle=True)\n",
    "    metrica = 'accuracy'\n",
    "    grid = GridSearchCV(estimator=modelo, param_grid=parameters, scoring=metrica, cv=kfold, n_jobs=-1)\n",
    "    grid_resultado = grid.fit(X_trn, Y_trn)\n",
    "    mejores_hiperparametros_tree=grid_resultado.best_params_\n",
    "    print(\"Resultados de GridSearchCV para el modelo\")\n",
    "    print(\"Mejor valor EXACTITUD usando k-fold:\", grid_resultado.best_score_*100)\n",
    "    print(\"Mejor valor PARAMETRO usando k-fold:\", grid_resultado.best_params_)\n",
    "    mejor_modelo = DecisionTreeClassifier(**grid_resultado.best_params_)\n",
    "    mejor_modelo.fit(X_trn, Y_trn)\n",
    "    return mejor_modelo,grid_resultado.best_params_\n",
    "\n",
    "modelo_tree,mejores_hiperparametros_tree = entrenar_modelo_tree_con_transformacion(X_trn, Y_trn)"
   ]
  },
  {
   "cell_type": "code",
   "execution_count": 19,
   "metadata": {},
   "outputs": [
    {
     "data": {
      "text/plain": [
       "0.6303630363036303"
      ]
     },
     "execution_count": 19,
     "metadata": {},
     "output_type": "execute_result"
    }
   ],
   "source": [
    "Y_pred_prueba = modelo_tree.predict(X_tst)\n",
    "accuracy_tree = accuracy_score(Y_tst, Y_pred_prueba)\n",
    "accuracy_tree"
   ]
  },
  {
   "cell_type": "markdown",
   "metadata": {},
   "source": [
    "### NAIVE BAYES"
   ]
  },
  {
   "cell_type": "code",
   "execution_count": 20,
   "metadata": {},
   "outputs": [
    {
     "name": "stdout",
     "output_type": "stream",
     "text": [
      "Resultados de GridSearchCV para el modelo\n",
      "Mejor valor EXACTITUD usando k-fold: 60.59784237338928\n",
      "Mejor valor PARAMETRO usando k-fold: {}\n"
     ]
    }
   ],
   "source": [
    "def entrenar_modelo_gaussian_con_transformacion(X_trn, Y_trn):\n",
    "    X_trn_transformado = X_trn\n",
    "    parameters = {}\n",
    "    modelo = GaussianNB()\n",
    "    semilla=7\n",
    "    num_folds=10\n",
    "    kfold = StratifiedKFold(n_splits=num_folds, random_state=semilla, shuffle=True)\n",
    "    metrica = 'accuracy'\n",
    "    grid = GridSearchCV(estimator=modelo, param_grid=parameters, scoring=metrica, cv=kfold, n_jobs=-1)\n",
    "    grid_resultado = grid.fit(X_trn, Y_trn)\n",
    "    print(\"Resultados de GridSearchCV para el modelo\")\n",
    "    print(\"Mejor valor EXACTITUD usando k-fold:\", grid_resultado.best_score_*100)\n",
    "    print(\"Mejor valor PARAMETRO usando k-fold:\", grid_resultado.best_params_)\n",
    "    mejor_modelo = GaussianNB(**grid_resultado.best_params_)\n",
    "    mejor_modelo.fit(X_trn_transformado, Y_trn)\n",
    "    return mejor_modelo\n",
    "modelo_gaussian = entrenar_modelo_gaussian_con_transformacion(X_trn, Y_trn)"
   ]
  },
  {
   "cell_type": "code",
   "execution_count": 21,
   "metadata": {},
   "outputs": [
    {
     "data": {
      "text/plain": [
       "0.6171617161716172"
      ]
     },
     "execution_count": 21,
     "metadata": {},
     "output_type": "execute_result"
    }
   ],
   "source": [
    "Y_pred_prueba = modelo_gaussian.predict(X_tst)\n",
    "accuracy_gaussian = accuracy_score(Y_tst, Y_pred_prueba)\n",
    "accuracy_gaussian"
   ]
  },
  {
   "cell_type": "markdown",
   "metadata": {},
   "source": [
    "### LDA"
   ]
  },
  {
   "cell_type": "code",
   "execution_count": 22,
   "metadata": {},
   "outputs": [
    {
     "name": "stdout",
     "output_type": "stream",
     "text": [
      "Resultados de GridSearchCV para el modelo\n",
      "Mejor valor EXACTITUD usando k-fold: 61.02087703526122\n",
      "Mejor valor PARAMETRO usando k-fold: {'n_components': 1, 'shrinkage': 1, 'solver': 'lsqr', 'tol': 0.001}\n"
     ]
    }
   ],
   "source": [
    "def entrenar_modelo_LDA_con_transformacion(X_trn, Y_trn):\n",
    "    X_trn_transformado = X_trn\n",
    "    parameters = { 'solver':  ['svd','lsqr','eigen'],\n",
    "            'n_components':[1,2,3,4,5,6,7,8,9,10],\n",
    "            'shrinkage': ['auto', 0.001, 0.01, 0.1, 0.5,1,10,100,1000],\n",
    "            'tol':[i/1000 for i in range(1,100,1)]}\n",
    "    modelo = LinearDiscriminantAnalysis()\n",
    "    semilla=7\n",
    "    num_folds=10\n",
    "    kfold = StratifiedKFold(n_splits=num_folds, random_state=semilla, shuffle=True)\n",
    "    metrica = 'accuracy'\n",
    "    grid = GridSearchCV(estimator=modelo, param_grid=parameters, scoring=metrica, cv=kfold, n_jobs=-1)\n",
    "    grid_resultado = grid.fit(X_trn, Y_trn)\n",
    "    mejores_hiperparametros_LDA=grid_resultado.best_params_\n",
    "    print(\"Resultados de GridSearchCV para el modelo\")\n",
    "    print(\"Mejor valor EXACTITUD usando k-fold:\", grid_resultado.best_score_*100)\n",
    "    print(\"Mejor valor PARAMETRO usando k-fold:\", grid_resultado.best_params_)\n",
    "    mejor_modelo = LinearDiscriminantAnalysis(**grid_resultado.best_params_)\n",
    "    mejor_modelo.fit(X_trn_transformado, Y_trn)\n",
    "    return mejor_modelo, grid_resultado.best_params_\n",
    "modelo_LDA,mejores_hiperparametros_LDA = entrenar_modelo_LDA_con_transformacion(X_trn, Y_trn)"
   ]
  },
  {
   "cell_type": "code",
   "execution_count": 23,
   "metadata": {},
   "outputs": [
    {
     "data": {
      "text/plain": [
       "0.6287128712871287"
      ]
     },
     "execution_count": 23,
     "metadata": {},
     "output_type": "execute_result"
    }
   ],
   "source": [
    "Y_pred_prueba = modelo_LDA.predict(X_tst)\n",
    "accuracy_LDA = accuracy_score(Y_tst, Y_pred_prueba)\n",
    "accuracy_LDA"
   ]
  },
  {
   "cell_type": "markdown",
   "metadata": {},
   "source": [
    "### BAGGINGCLASSIFIER"
   ]
  },
  {
   "cell_type": "code",
   "execution_count": 24,
   "metadata": {},
   "outputs": [
    {
     "name": "stdout",
     "output_type": "stream",
     "text": [
      "Resultados de GridSearchCV para el modelo\n",
      "Mejor valor EXACTITUD usando k-fold: 61.163220457496756\n",
      "Mejor valor PARAMETRO usando k-fold: {'bootstrap': True, 'bootstrap_features': True, 'max_features': 0.75, 'max_samples': 0.75, 'n_estimators': 750}\n"
     ]
    }
   ],
   "source": [
    "def entrenar_modelo_BG_con_transformacion(X_trn, Y_trn,mejores_hiperparametros_tree):\n",
    "    # Aplicar la transformación Yeo-Johnson\n",
    "    parameters = {'n_estimators': [i for i in range(750,760,5)],\n",
    "            'max_samples' : [i/100.0 for i in range(70,90,5)],\n",
    "            'max_features': [i/100.0 for i in range(75,85,5)],\n",
    "            'bootstrap': [True], \n",
    "            'bootstrap_features': [True]}\n",
    "    base_estimator= DecisionTreeClassifier(**mejores_hiperparametros_tree)\n",
    "    semilla=7\n",
    "    modelo = BaggingClassifier(estimator=base_estimator,n_estimators=750, random_state=semilla,\n",
    "                             bootstrap= True, bootstrap_features = True, max_features = 0.7,\n",
    "                             max_samples= 0.5)\n",
    "    num_folds=10\n",
    "    kfold = StratifiedKFold(n_splits=num_folds, random_state=semilla, shuffle=True)\n",
    "    metrica = 'accuracy'\n",
    "    grid = GridSearchCV(estimator=modelo, param_grid=parameters, scoring=metrica, cv=kfold, n_jobs=-1)\n",
    "    grid_resultado = grid.fit(X_trn, Y_trn)\n",
    "    mejores_hiperparametros_BG=grid_resultado.best_params_\n",
    "    print(\"Resultados de GridSearchCV para el modelo\")\n",
    "    print(\"Mejor valor EXACTITUD usando k-fold:\", grid_resultado.best_score_*100)\n",
    "    print(\"Mejor valor PARAMETRO usando k-fold:\", grid_resultado.best_params_)\n",
    "    mejor_modelo = BaggingClassifier(**grid_resultado.best_params_)\n",
    "    mejor_modelo.fit(X_trn, Y_trn)\n",
    "    return mejor_modelo,grid_resultado.best_params_\n",
    "X_trn = X_trn\n",
    "Y_trn = Y_trn \n",
    "modelo_BG,mejores_hiperparametros_BG = entrenar_modelo_BG_con_transformacion(X_trn, Y_trn,mejores_hiperparametros_tree)\n"
   ]
  },
  {
   "cell_type": "code",
   "execution_count": 25,
   "metadata": {},
   "outputs": [
    {
     "data": {
      "text/plain": [
       "0.6122112211221122"
      ]
     },
     "execution_count": 25,
     "metadata": {},
     "output_type": "execute_result"
    }
   ],
   "source": [
    "Y_pred_prueba = modelo_BG.predict(X_tst)\n",
    "accuracy_BG = accuracy_score(Y_tst, Y_pred_prueba)\n",
    "accuracy_BG"
   ]
  },
  {
   "cell_type": "markdown",
   "metadata": {},
   "source": [
    "### RANDOM FOREST"
   ]
  },
  {
   "cell_type": "code",
   "execution_count": 26,
   "metadata": {},
   "outputs": [
    {
     "name": "stdout",
     "output_type": "stream",
     "text": [
      "Resultados de GridSearchCV para el modelo\n",
      "Mejor valor EXACTITUD usando k-fold: 62.29847168115074\n",
      "Mejor valor PARAMETRO usando k-fold: {'criterion': 'entropy', 'min_samples_leaf': 15, 'min_samples_split': 20}\n"
     ]
    }
   ],
   "source": [
    "def entrenar_modelo_random_con_transformacion(X_trn, Y_trn):\n",
    "    parameters = { \n",
    "                'min_samples_split' : [1, 2 , 3,  4 , 6 , 8 , 10 , 15, 20 ],  \n",
    "                'min_samples_leaf' : [ 1 , 3 , 5 , 7 , 9, 12, 15 ],\n",
    "                'criterion':('gini','entropy','log_loss'),\n",
    "                #'max_features':('sqrt','log2',None)\n",
    "                #'class_weight':('balanced','balanced_subsample')\n",
    "              }\n",
    "    modelo = RandomForestClassifier()\n",
    "    semilla=7\n",
    "    num_folds=10\n",
    "    kfold = StratifiedKFold(n_splits=num_folds, random_state=semilla, shuffle=True)\n",
    "    metrica = 'accuracy'\n",
    "    grid = GridSearchCV(estimator=modelo, param_grid=parameters, scoring=metrica, cv=kfold, n_jobs=-1)\n",
    "    grid_resultado = grid.fit(X_trn, Y_trn)\n",
    "    mejores_hiperparametros_random=grid_resultado.best_params_\n",
    "    print(\"Resultados de GridSearchCV para el modelo\")\n",
    "    print(\"Mejor valor EXACTITUD usando k-fold:\", grid_resultado.best_score_*100)\n",
    "    print(\"Mejor valor PARAMETRO usando k-fold:\", grid_resultado.best_params_)\n",
    "    mejor_modelo = RandomForestClassifier(**grid_resultado.best_params_)\n",
    "    mejor_modelo.fit(X_trn, Y_trn)\n",
    "    return mejor_modelo,grid_resultado.best_params_\n",
    "\n",
    "modelo_random,mejores_hiperparametros_random = entrenar_modelo_random_con_transformacion(X_trn, Y_trn)"
   ]
  },
  {
   "cell_type": "code",
   "execution_count": 27,
   "metadata": {},
   "outputs": [
    {
     "data": {
      "text/plain": [
       "0.6336633663366337"
      ]
     },
     "execution_count": 27,
     "metadata": {},
     "output_type": "execute_result"
    }
   ],
   "source": [
    "Y_pred_prueba = modelo_random.predict(X_tst)\n",
    "accuracy_random = accuracy_score(Y_tst, Y_pred_prueba)\n",
    "accuracy_random"
   ]
  },
  {
   "cell_type": "markdown",
   "metadata": {},
   "source": [
    "### EXTRATREES "
   ]
  },
  {
   "cell_type": "code",
   "execution_count": 28,
   "metadata": {},
   "outputs": [
    {
     "name": "stdout",
     "output_type": "stream",
     "text": [
      "Resultados de GridSearchCV para el modelo\n",
      "Mejor valor EXACTITUD usando k-fold: 62.08320847068226\n",
      "Mejor valor PARAMETRO usando k-fold: {'criterion': 'entropy', 'min_samples_leaf': 2, 'min_samples_split': 2}\n"
     ]
    }
   ],
   "source": [
    "def entrenar_modelo_extra_con_transformacion(X_trn, Y_trn):\n",
    "    # Aplicar la transformación Yeo-Johnson\n",
    "    parameters = {'min_samples_split' : [i for i in range(1,10,1)], \n",
    "                'min_samples_leaf' : [i for i in range(0,10,1)],\n",
    "                'min_samples_leaf':[i for i in range(0,10,1)],\n",
    "                'min_samples_split':[i for i in range(0,10,1)],\n",
    "                'criterion':('gini','entropy','log_loss')}\n",
    "    semilla=7            \n",
    "    modelo = ExtraTreesClassifier(random_state=semilla, \n",
    "                                n_estimators=40,\n",
    "                                bootstrap=True) \n",
    "    num_folds=10\n",
    "    kfold = StratifiedKFold(n_splits=num_folds, random_state=semilla, shuffle=True)\n",
    "    metrica = 'accuracy'\n",
    "    grid = GridSearchCV(estimator=modelo, param_grid=parameters, scoring=metrica, cv=kfold, n_jobs=-1)\n",
    "    grid_resultado = grid.fit(X_trn, Y_trn)\n",
    "    mejores_hiperparametros_extra=grid_resultado.best_params_\n",
    "    print(\"Resultados de GridSearchCV para el modelo\")\n",
    "    print(\"Mejor valor EXACTITUD usando k-fold:\", grid_resultado.best_score_*100)\n",
    "    print(\"Mejor valor PARAMETRO usando k-fold:\", grid_resultado.best_params_)\n",
    "    mejor_modelo = ExtraTreesClassifier(**grid_resultado.best_params_)\n",
    "    mejor_modelo.fit(X_trn, Y_trn)\n",
    "    return mejor_modelo,grid_resultado.best_params_\n",
    "\n",
    "modelo_extra,mejores_hiperparametros_extra = entrenar_modelo_extra_con_transformacion(X_trn, Y_trn)"
   ]
  },
  {
   "cell_type": "code",
   "execution_count": 29,
   "metadata": {},
   "outputs": [
    {
     "data": {
      "text/plain": [
       "0.6402640264026402"
      ]
     },
     "execution_count": 29,
     "metadata": {},
     "output_type": "execute_result"
    }
   ],
   "source": [
    "Y_pred_prueba = modelo_extra.predict(X_tst)\n",
    "accuracy_extra = accuracy_score(Y_tst, Y_pred_prueba)\n",
    "accuracy_extra"
   ]
  },
  {
   "cell_type": "markdown",
   "metadata": {},
   "source": [
    "### ADABOOST"
   ]
  },
  {
   "cell_type": "code",
   "execution_count": 30,
   "metadata": {},
   "outputs": [
    {
     "name": "stdout",
     "output_type": "stream",
     "text": [
      "Resultados de GridSearchCV para el modelo\n",
      "Mejor valor EXACTITUD usando k-fold: 61.02087703526122\n",
      "Mejor valor PARAMETRO usando k-fold: {'learning_rate': 0.0005, 'n_estimators': 1}\n"
     ]
    }
   ],
   "source": [
    "def entrenar_modelo_ADA_con_transformacion(X_trn, Y_trn):\n",
    "    # Aplicar la transformación Yeo-Johnson\n",
    "    parameters = {'learning_rate' : [i/10000.0 for i in range(5,20,5)],\n",
    "                  'n_estimators':[i for i in range(1,50,1)]}\n",
    "    semilla=7            \n",
    "    modelo = AdaBoostClassifier(estimator = None,  algorithm = 'SAMME.R', \n",
    "                                random_state= None) \n",
    "    num_folds=10\n",
    "    kfold = StratifiedKFold(n_splits=num_folds, random_state=semilla, shuffle=True)\n",
    "    metrica = 'accuracy'\n",
    "    grid = GridSearchCV(estimator=modelo, param_grid=parameters, scoring=metrica, cv=kfold, n_jobs=-1)\n",
    "    grid_resultado = grid.fit(X_trn, Y_trn)\n",
    "    mejores_hiperparametros_ADA=grid_resultado.best_params_\n",
    "    print(\"Resultados de GridSearchCV para el modelo\")\n",
    "    print(\"Mejor valor EXACTITUD usando k-fold:\", grid_resultado.best_score_*100)\n",
    "    print(\"Mejor valor PARAMETRO usando k-fold:\", grid_resultado.best_params_)\n",
    "    mejor_modelo = AdaBoostClassifier(**grid_resultado.best_params_)\n",
    "    mejor_modelo.fit(X_trn, Y_trn)\n",
    "    return mejor_modelo,grid_resultado.best_params_\n",
    "modelo_ADA, mejores_hiperparametros_ADA= entrenar_modelo_ADA_con_transformacion(X_trn, Y_trn)"
   ]
  },
  {
   "cell_type": "code",
   "execution_count": 31,
   "metadata": {},
   "outputs": [
    {
     "data": {
      "text/plain": [
       "0.6320132013201321"
      ]
     },
     "execution_count": 31,
     "metadata": {},
     "output_type": "execute_result"
    }
   ],
   "source": [
    "Y_pred_prueba = modelo_ADA.predict(X_tst)\n",
    "accuracy_ADA = accuracy_score(Y_tst, Y_pred_prueba)\n",
    "accuracy_ADA"
   ]
  },
  {
   "cell_type": "markdown",
   "metadata": {},
   "source": [
    "### XGB"
   ]
  },
  {
   "cell_type": "code",
   "execution_count": 32,
   "metadata": {},
   "outputs": [
    {
     "name": "stdout",
     "output_type": "stream",
     "text": [
      "Resultados de GridSearchCV para el modelo\n",
      "Mejor valor EXACTITUD usando k-fold: 61.588752372390374\n",
      "Mejor valor PARAMETRO usando k-fold: {'colsample_bytree': 0.1, 'loss': 'log_loss', 'max_features': 'sqrt', 'n_estimators': 1, 'objective': 'binary:logistic', 'reg_alpha': 0, 'reg_lambda': 0.1}\n"
     ]
    }
   ],
   "source": [
    "def entrenar_modelo_XB_con_transformacion(X_trn, Y_trn):\n",
    "    parameters = {'reg_alpha': [0,0.1,0.2,0.3,0.4,0.5],\n",
    "                'reg_lambda':  [i/1000.0 for i in range(100,150,5)],\n",
    "                'n_estimators':  [i for i in range(1,10,2)],\n",
    "                'colsample_bytree': [0.1,0.3, 0.5,0.6,0.7,0.8, 0.9, 1,1.1],\n",
    "                'objective' : ('binary:logistic', 'Multi: softprob'),\n",
    "                'loss': ['log_loss'],\n",
    "                'max_features':('sqrt','log2')\n",
    "                }\n",
    "    semilla=7\n",
    "    modelo = XGBClassifier(random_state=semilla,subsample =1,max_depth =2)\n",
    "    semilla=7\n",
    "    num_folds=10\n",
    "    kfold = StratifiedKFold(n_splits=num_folds, random_state=semilla, shuffle=True)\n",
    "    metrica = 'accuracy'\n",
    "    grid = GridSearchCV(estimator=modelo, param_grid=parameters, scoring=metrica, cv=kfold, n_jobs=-1)\n",
    "    grid_resultado = grid.fit(X_trn, Y_trn)\n",
    "    mejores_hiperparametros_XB=grid_resultado.best_params_\n",
    "    print(\"Resultados de GridSearchCV para el modelo\")\n",
    "    print(\"Mejor valor EXACTITUD usando k-fold:\", grid_resultado.best_score_*100)\n",
    "    print(\"Mejor valor PARAMETRO usando k-fold:\", grid_resultado.best_params_)\n",
    "    mejor_modelo = XGBClassifier(**grid_resultado.best_params_)\n",
    "    mejor_modelo.fit(X_trn, Y_trn)\n",
    "    return mejor_modelo,grid_resultado.best_params_\n",
    "\n",
    "modelo_XB,mejores_hiperparametros_XB = entrenar_modelo_XB_con_transformacion(X_trn, Y_trn)"
   ]
  },
  {
   "cell_type": "code",
   "execution_count": 33,
   "metadata": {},
   "outputs": [
    {
     "data": {
      "text/plain": [
       "0.6287128712871287"
      ]
     },
     "execution_count": 33,
     "metadata": {},
     "output_type": "execute_result"
    }
   ],
   "source": [
    "Y_pred_prueba = modelo_XB.predict(X_tst)\n",
    "accuracy_XB = accuracy_score(Y_tst, Y_pred_prueba)\n",
    "accuracy_XB"
   ]
  },
  {
   "cell_type": "markdown",
   "metadata": {},
   "source": [
    "### GRADIENT BOOSTING"
   ]
  },
  {
   "cell_type": "code",
   "execution_count": 34,
   "metadata": {},
   "outputs": [],
   "source": [
    "def entrenar_modelo_GD_con_transformacion(X_trn, Y_trn):\n",
    "    X_trn_transformado = X_trn\n",
    "    parameters = { \n",
    "                'learning_rate' : [0.01, 0.05, 0.1,0.15],\n",
    "                'n_estimators': [i for i in range(100,1200,100)],\n",
    "                'loss':('log_loss','exponential'),\n",
    "                'criterion':['friedman_mse']     \n",
    "              }\n",
    "    semilla=7\n",
    "    modelo = GradientBoostingClassifier(random_state=semilla,\n",
    "                                    n_estimators= 100,learning_rate= 0.1,max_depth= 2,\n",
    "                                    min_samples_split= 2, min_samples_leaf= 3,max_features= 2)\n",
    "    semilla=7\n",
    "    num_folds=10\n",
    "    kfold = StratifiedKFold(n_splits=num_folds, random_state=semilla, shuffle=True)\n",
    "    metrica = 'accuracy'\n",
    "    grid = GridSearchCV(estimator=modelo, param_grid=parameters, scoring=metrica, cv=kfold, n_jobs=-1)\n",
    "    grid_resultado = grid.fit(X_trn, Y_trn)\n",
    "    mejores_hiperparametros_GD=grid_resultado.best_params_\n",
    "    print(\"Resultados de GridSearchCV para el modelo\")\n",
    "    print(\"Mejor valor EXACTITUD usando k-fold:\", grid_resultado.best_score_*100)\n",
    "    print(\"Mejor valor PARAMETRO usando k-fold:\", grid_resultado.best_params_)\n",
    "    mejor_modelo = GradientBoostingClassifier(**grid_resultado.best_params_)\n",
    "    mejor_modelo.fit(X_trn_transformado, Y_trn)\n",
    "    return mejor_modelo,grid_resultado.best_params_\n",
    "\n",
    "modelo_GD,mejores_hiperparametros_GD = entrenar_modelo_GD_con_transformacion(X_trn, Y_trn)"
   ]
  },
  {
   "cell_type": "code",
   "execution_count": null,
   "metadata": {},
   "outputs": [],
   "source": [
    "Y_pred_prueba = modelo_GD.predict(X_tst)\n",
    "accuracy_GD = accuracy_score(Y_tst, Y_pred_prueba)\n",
    "accuracy_GD"
   ]
  },
  {
   "cell_type": "markdown",
   "metadata": {},
   "source": [
    "### CATBOOST"
   ]
  },
  {
   "cell_type": "code",
   "execution_count": null,
   "metadata": {},
   "outputs": [
    {
     "name": "stdout",
     "output_type": "stream",
     "text": [
      "Resultados de GridSearchCV para el modelo\n",
      "Mejor valor EXACTITUD usando k-fold: 61.660673259414644\n",
      "Mejor valor PARAMETRO usando k-fold: {'border_count': 53, 'depth': 4, 'l2_leaf_reg': 42, 'learning_rate': 0.01, 'thread_count': 4}\n"
     ]
    }
   ],
   "source": [
    "def entrenar_modelo_CB_con_transformacion(X_trn, Y_trn):\n",
    "    # Aplicar la transformación Yeo-Johnson\n",
    "    parameters = {'border_count':[53],'l2_leaf_reg': [42],'learning_rate': [0.01],\n",
    "                  'depth': [4, 6, 8],'thread_count': [4, 8, 12]\n",
    "                  } \n",
    "    semilla=7\n",
    "    modelo = CatBoostClassifier(random_state=semilla, verbose =0)\n",
    "    semilla=7\n",
    "    num_folds=10\n",
    "    kfold = StratifiedKFold(n_splits=num_folds, random_state=semilla, shuffle=True)\n",
    "    metrica = 'accuracy'\n",
    "    grid = GridSearchCV(estimator=modelo, param_grid=parameters, scoring=metrica, cv=kfold, n_jobs=-1)\n",
    "    grid_resultado = grid.fit(X_trn, Y_trn)\n",
    "    mejores_hiperparametros_CB=grid_resultado.best_params_\n",
    "    print(\"Resultados de GridSearchCV para el modelo\")\n",
    "    print(\"Mejor valor EXACTITUD usando k-fold:\", grid_resultado.best_score_*100)\n",
    "    print(\"Mejor valor PARAMETRO usando k-fold:\", grid_resultado.best_params_)\n",
    "    mejor_modelo = CatBoostClassifier(verbose=0,**grid_resultado.best_params_)\n",
    "    mejor_modelo.fit(X_trn, Y_trn)\n",
    "    return mejor_modelo,grid_resultado.best_params_\n",
    "\n",
    "modelo_CB,mejores_hiperparametros_CB = entrenar_modelo_CB_con_transformacion(X_trn, Y_trn)"
   ]
  },
  {
   "cell_type": "code",
   "execution_count": null,
   "metadata": {},
   "outputs": [],
   "source": [
    "Y_pred_prueba = modelo_CB.predict(X_tst)\n",
    "accuracy_CB = accuracy_score(Y_tst, Y_pred_prueba)\n",
    "accuracy_CB"
   ]
  },
  {
   "cell_type": "markdown",
   "metadata": {},
   "source": [
    "### LIGHT GBM"
   ]
  },
  {
   "cell_type": "code",
   "execution_count": null,
   "metadata": {},
   "outputs": [
    {
     "name": "stdout",
     "output_type": "stream",
     "text": [
      "[LightGBM] [Info] Auto-choosing col-wise multi-threading, the overhead of testing was 0.000125 seconds.\n",
      "You can set `force_col_wise=true` to remove the overhead.\n",
      "[LightGBM] [Info] Total Bins 375\n",
      "[LightGBM] [Info] Number of data points in the train set: 1411, number of used features: 6\n",
      "[LightGBM] [Info] Start training from score -5.054829\n",
      "[LightGBM] [Info] Start training from score -1.074110\n",
      "[LightGBM] [Info] Start training from score -0.493959\n",
      "[LightGBM] [Info] Start training from score -3.191611\n",
      "[LightGBM] [Info] Start training from score -7.252054\n",
      "Resultados de GridSearchCV para el modelo\n",
      "Mejor valor EXACTITUD usando k-fold: 61.7295974428129\n",
      "Mejor valor PARAMETRO usando k-fold: {'boosting_type': 'gbdt', 'colsample_bytree': 0.6, 'min_child_samples': 200, 'objective': 'multiclass', 'random_state': 42}\n"
     ]
    }
   ],
   "source": [
    "def entrenar_modelo_LIGHT_con_transformacion(X_trn, Y_trn):\n",
    "    # Aplicar la transformación Yeo-Johnson\n",
    "    X_trn_transformado = X_trn\n",
    "    parameters = {\n",
    "    'min_child_samples' : [i for i in range(200, 10000, 100)],'colsample_bytree': [0.6, 0.8, 1.0],\n",
    "    'boosting_type': ['gbdt', 'dart', 'goss'],'objective': ['binary', 'multiclass'],'random_state': [42]}\n",
    "    semilla=7\n",
    "    modelo = LGBMClassifier (random_state=semilla,                           \n",
    "                            num_leaves =  10,max_depth = 1, n_estimators = 100,    \n",
    "                            learning_rate = 0.1 ,class_weight=  None, subsample = 1,\n",
    "                            colsample_bytree= 1, reg_alpha=  0, reg_lambda = 0,\n",
    "                            min_split_gain = 0, boosting_type = 'gbdt')\n",
    "    semilla=7\n",
    "    num_folds=10\n",
    "    kfold = StratifiedKFold(n_splits=num_folds, random_state=semilla, shuffle=True)\n",
    "    metrica = 'accuracy'\n",
    "    grid = GridSearchCV(estimator=modelo, param_grid=parameters, scoring=metrica, cv=kfold, n_jobs=-1)\n",
    "    grid_resultado = grid.fit(X_trn, Y_trn)\n",
    "    mejores_hiperparametros_LIGHT=grid_resultado.best_params_\n",
    "    print(\"Resultados de GridSearchCV para el modelo\")\n",
    "    print(\"Mejor valor EXACTITUD usando k-fold:\", grid_resultado.best_score_*100)\n",
    "    print(\"Mejor valor PARAMETRO usando k-fold:\", grid_resultado.best_params_)\n",
    "    mejor_modelo = LGBMClassifier(verbose=-1,**grid_resultado.best_params_)\n",
    "    mejor_modelo.fit(X_trn_transformado, Y_trn)\n",
    "    return mejor_modelo,grid_resultado.best_params_\n",
    "\n",
    "\n",
    "modelo_LIGHT,mejores_hiperparametros_LIGHT = entrenar_modelo_LIGHT_con_transformacion(X_trn, Y_trn)"
   ]
  },
  {
   "cell_type": "code",
   "execution_count": null,
   "metadata": {},
   "outputs": [],
   "source": [
    "Y_pred_prueba = modelo_LIGHT.predict(X_tst)\n",
    "accuracy_LIGHT = accuracy_score(Y_tst, Y_pred_prueba)\n",
    "accuracy_LIGHT"
   ]
  },
  {
   "cell_type": "code",
   "execution_count": null,
   "metadata": {},
   "outputs": [
    {
     "data": {
      "text/plain": [
       "{'objective': 'multi:softprob',\n",
       " 'base_score': None,\n",
       " 'booster': None,\n",
       " 'callbacks': None,\n",
       " 'colsample_bylevel': None,\n",
       " 'colsample_bynode': None,\n",
       " 'colsample_bytree': 0.1,\n",
       " 'device': None,\n",
       " 'early_stopping_rounds': None,\n",
       " 'enable_categorical': False,\n",
       " 'eval_metric': None,\n",
       " 'feature_types': None,\n",
       " 'gamma': None,\n",
       " 'grow_policy': None,\n",
       " 'importance_type': None,\n",
       " 'interaction_constraints': None,\n",
       " 'learning_rate': None,\n",
       " 'max_bin': None,\n",
       " 'max_cat_threshold': None,\n",
       " 'max_cat_to_onehot': None,\n",
       " 'max_delta_step': None,\n",
       " 'max_depth': None,\n",
       " 'max_leaves': None,\n",
       " 'min_child_weight': None,\n",
       " 'missing': nan,\n",
       " 'monotone_constraints': None,\n",
       " 'multi_strategy': None,\n",
       " 'n_estimators': 1,\n",
       " 'n_jobs': None,\n",
       " 'num_parallel_tree': None,\n",
       " 'random_state': None,\n",
       " 'reg_alpha': 0,\n",
       " 'reg_lambda': 0.1,\n",
       " 'sampling_method': None,\n",
       " 'scale_pos_weight': None,\n",
       " 'subsample': None,\n",
       " 'tree_method': None,\n",
       " 'validate_parameters': None,\n",
       " 'verbosity': None,\n",
       " 'loss': 'log_loss',\n",
       " 'max_features': 'sqrt'}"
      ]
     },
     "execution_count": 29,
     "metadata": {},
     "output_type": "execute_result"
    }
   ],
   "source": [
    "mejores_hiperparametros_knn = modelo_knn.get_params()\n",
    "mejores_hiperparametros_knn\n",
    "\n",
    "mejores_hiperparametros_GD = modelo_GD.get_params()\n",
    "mejores_hiperparametros_GD\n",
    "\n",
    "mejores_hiperparametros_tree = modelo_tree.get_params()\n",
    "mejores_hiperparametros_tree\n",
    "\n",
    "mejores_hiperparametros_ADA = modelo_ADA.get_params()\n",
    "mejores_hiperparametros_ADA\n",
    "\n",
    "mejores_hiperparametros_extra = modelo_extra.get_params()\n",
    "mejores_hiperparametros_extra\n",
    "\n",
    "mejores_hiperparametros_random = modelo_random.get_params()\n",
    "mejores_hiperparametros_random\n",
    "\n",
    "mejores_hiperparametros_BG = modelo_BG.get_params()\n",
    "mejores_hiperparametros_BG\n",
    "\n",
    "mejores_hiperparametros_XB = modelo_XB.get_params()\n",
    "mejores_hiperparametros_XB"
   ]
  },
  {
   "cell_type": "markdown",
   "metadata": {},
   "source": [
    "### VOTING HARD"
   ]
  },
  {
   "cell_type": "code",
   "execution_count": null,
   "metadata": {},
   "outputs": [
    {
     "name": "stdout",
     "output_type": "stream",
     "text": [
      "Rendimiento del modelo:\n",
      "Promedio de Exactitud (DATOS ENTRENAMIENTO) usando k-fold: 61.94336230146838  % \n"
     ]
    }
   ],
   "source": [
    "def entrenar_modelo_voting_hard_con_transformacion(X_trn, Y_trn,\n",
    "                                                   mejores_hiperparametros_GD,\n",
    "                                                   mejores_hiperparametros_tree,\n",
    "                                                   mejores_hiperparametros_ADA,\n",
    "                                                   mejores_hiperparametros_extra,\n",
    "                                                   mejores_hiperparametros_random,\n",
    "                                                   mejores_hiperparametros_BG,\n",
    "                                                   mejores_hiperparametros_XB):\n",
    "    semilla= 7 \n",
    "    kfold = StratifiedKFold(n_splits=10, random_state=semilla, shuffle=True)\n",
    "    modelo1 = GradientBoostingClassifier(**mejores_hiperparametros_GD)\n",
    "    base_estimator=DecisionTreeClassifier(**mejores_hiperparametros_tree)\n",
    "    modelo2 = AdaBoostClassifier(**mejores_hiperparametros_ADA)\n",
    "    modelo3 = ExtraTreesClassifier(**mejores_hiperparametros_extra)\n",
    "    modelo4 = RandomForestClassifier (**mejores_hiperparametros_random)\n",
    "    model = DecisionTreeClassifier(**mejores_hiperparametros_tree)\n",
    "    modelo5 = BaggingClassifier(**mejores_hiperparametros_BG)\n",
    "    modelo6 = DecisionTreeClassifier(**mejores_hiperparametros_tree)\n",
    "    modelo7 = XGBClassifier(**mejores_hiperparametros_XB)\n",
    "    metrica = 'accuracy'\n",
    "    mejor_modelo = VotingClassifier(\n",
    "    estimators=[('Gradient', modelo1), ('Adaboost', modelo2), \n",
    "                                    ('Extratrees', modelo3),('Random Forest',modelo4),\n",
    "                                    ('Bagging',modelo5),('Decision tree',modelo6),\n",
    "                                    ('XGB',modelo7)],voting='hard') \n",
    "    mejor_modelo.fit(X_trn, Y_trn)\n",
    "    resultados = cross_val_score(mejor_modelo, X_trn, Y_trn, \n",
    "                                    cv=kfold,scoring = metrica)\n",
    "    mejores_hiperparametros_voting_hard=mejor_modelo.get_params\n",
    "    print(\"Rendimiento del modelo:\") \n",
    "    print (\"Promedio de Exactitud (DATOS ENTRENAMIENTO) usando k-fold:\", resultados.mean()*100,\" % \") \n",
    "    return mejor_modelo, mejores_hiperparametros_voting_hard\n",
    "modelo_voting_hard, mejores_hiperparametros_voting_hard= entrenar_modelo_voting_hard_con_transformacion(X_trn, Y_trn,\n",
    "                                                   mejores_hiperparametros_GD,\n",
    "                                                   mejores_hiperparametros_tree,\n",
    "                                                   mejores_hiperparametros_ADA,\n",
    "                                                   mejores_hiperparametros_extra,\n",
    "                                                   mejores_hiperparametros_random,\n",
    "                                                   mejores_hiperparametros_BG,\n",
    "                                                   mejores_hiperparametros_XB)"
   ]
  },
  {
   "cell_type": "code",
   "execution_count": null,
   "metadata": {},
   "outputs": [],
   "source": [
    "Y_pred_prueba = modelo_voting_hard.predict(X_tst)\n",
    "accuracy_voting_hard = accuracy_score(Y_tst, Y_pred_prueba)\n",
    "accuracy_voting_hard"
   ]
  },
  {
   "cell_type": "markdown",
   "metadata": {},
   "source": [
    "### VOTACION SUAVE"
   ]
  },
  {
   "cell_type": "code",
   "execution_count": null,
   "metadata": {},
   "outputs": [
    {
     "name": "stdout",
     "output_type": "stream",
     "text": [
      "Rendimiento del modelo:\n",
      "Promedio de Exactitud (DATOS ENTRENAMIENTO) usando k-fold: 61.80301668165019  % \n"
     ]
    }
   ],
   "source": [
    "def entrenar_modelo_voting_soft_con_transformacion(X_trn, Y_trn,\n",
    "                                                   mejores_hiperparametros_GD,\n",
    "                                                   mejores_hiperparametros_tree,\n",
    "                                                   mejores_hiperparametros_ADA,\n",
    "                                                   mejores_hiperparametros_extra,\n",
    "                                                   mejores_hiperparametros_random,\n",
    "                                                   mejores_hiperparametros_BG):\n",
    "    semilla= 7 \n",
    "    kfold = StratifiedKFold(n_splits=10, random_state=semilla, shuffle=True)\n",
    "    modelo1 = GradientBoostingClassifier(**mejores_hiperparametros_GD)\n",
    "    base_estimator=DecisionTreeClassifier(**mejores_hiperparametros_tree)\n",
    "    modelo2 = AdaBoostClassifier(**mejores_hiperparametros_ADA)\n",
    "    modelo3 = ExtraTreesClassifier(**mejores_hiperparametros_extra)\n",
    "    modelo4 = RandomForestClassifier (**mejores_hiperparametros_random)\n",
    "    model = DecisionTreeClassifier(**mejores_hiperparametros_tree)\n",
    "    modelo5 = BaggingClassifier(**mejores_hiperparametros_BG)\n",
    "    modelo6 = DecisionTreeClassifier(**mejores_hiperparametros_tree)\n",
    "    metrica = 'accuracy'\n",
    "    mejor_modelo = VotingClassifier(\n",
    "    estimators=[('Gradient', modelo1), ('Adaboost', modelo2), ('Extratrees', modelo3),\n",
    "                                    ('Random Forest',modelo4),\n",
    "                                    ('Bagging',modelo5),('Decision tree',modelo6)],\n",
    "    voting='soft',weights=[0.9,0.7,0.9,0.9,0.9,0.9]) \n",
    "    mejor_modelo.fit(X_trn, Y_trn)\n",
    "    mejores_hiperparametros_voting_soft=mejor_modelo.get_params\n",
    "    resultados = cross_val_score(mejor_modelo, X_trn, Y_trn, cv=kfold,scoring = metrica)\n",
    "    print(\"Rendimiento del modelo:\") \n",
    "    print (\"Promedio de Exactitud (DATOS ENTRENAMIENTO) usando k-fold:\", resultados.mean()*100,\" % \") \n",
    "    return mejor_modelo,mejores_hiperparametros_voting_soft\n",
    "\n",
    "# Entrenar el modelo KNN con transformación Yeo-Johnson\n",
    "modelo_voting_soft,mejores_hiperparametros_voting_soft = entrenar_modelo_voting_soft_con_transformacion(X_trn, Y_trn,\n",
    "                                                   mejores_hiperparametros_GD,\n",
    "                                                   mejores_hiperparametros_tree,\n",
    "                                                   mejores_hiperparametros_ADA,\n",
    "                                                   mejores_hiperparametros_extra,\n",
    "                                                   mejores_hiperparametros_random,\n",
    "                                                   mejores_hiperparametros_BG)"
   ]
  },
  {
   "cell_type": "code",
   "execution_count": null,
   "metadata": {},
   "outputs": [],
   "source": [
    "Y_pred_prueba = modelo_voting_soft.predict(X_tst)\n",
    "accuracy_voting_soft = accuracy_score(Y_tst, Y_pred_prueba)\n",
    "accuracy_voting_soft"
   ]
  },
  {
   "cell_type": "markdown",
   "metadata": {},
   "source": [
    "### STACKING ( METAMODELO LINEAL)"
   ]
  },
  {
   "cell_type": "code",
   "execution_count": null,
   "metadata": {},
   "outputs": [
    {
     "name": "stdout",
     "output_type": "stream",
     "text": [
      "Rendimiento del modelo:\n",
      "Promedio de Exactitud (DATOS ENTRENAMIENTO) usando k-fold: 61.162221556288074  % \n"
     ]
    }
   ],
   "source": [
    "def entrenar_modelo_stacking_lineal_con_transformacion(X_trn, Y_trn,\n",
    "                                                   mejores_hiperparametros_tree,\n",
    "                                                   mejores_hiperparametros_ADA,\n",
    "                                                   mejores_hiperparametros_extra,\n",
    "                                                   mejores_hiperparametros_random,\n",
    "                                                   mejores_hiperparametros_BG):\n",
    "    semilla= 7 \n",
    "    kfold = StratifiedKFold(n_splits=10, random_state=semilla, shuffle=True)\n",
    "    base_estimator=DecisionTreeClassifier(**mejores_hiperparametros_tree)\n",
    "    modelo2 = AdaBoostClassifier(**mejores_hiperparametros_ADA)\n",
    "    modelo3 = ExtraTreesClassifier(**mejores_hiperparametros_extra)\n",
    "    modelo4 = RandomForestClassifier (**mejores_hiperparametros_random)\n",
    "    model = DecisionTreeClassifier(**mejores_hiperparametros_tree)\n",
    "    modelo5 = BaggingClassifier(**mejores_hiperparametros_BG)\n",
    "    modelo6 = DecisionTreeClassifier(**mejores_hiperparametros_tree)\n",
    "    estimador_final = LogisticRegression()\n",
    "    metrica = 'accuracy'\n",
    "    mejor_modelo = StackingClassifier(\n",
    "    estimators=[ ('Adaboost', modelo2), ('Extratrees', modelo3),('Random Forest',modelo4),\n",
    "                                    ('Bagging',modelo5),('Decision tree',modelo6)], \n",
    "                                    final_estimator=estimador_final) \n",
    "    mejor_modelo.fit(X_trn, Y_trn)\n",
    "    mejores_hiperparametros_stacking_lineal=mejor_modelo.get_params\n",
    "    resultados = cross_val_score(mejor_modelo, X_trn, Y_trn, cv=kfold,scoring = metrica)\n",
    "    print(\"Rendimiento del modelo:\") \n",
    "    print (\"Promedio de Exactitud (DATOS ENTRENAMIENTO) usando k-fold:\", resultados.mean()*100,\" % \") \n",
    "    return mejor_modelo,mejores_hiperparametros_stacking_lineal\n",
    "\n",
    "modelo_stacking_lineal,mejores_hiperparametros_stacking_lineal = entrenar_modelo_stacking_lineal_con_transformacion(X_trn, Y_trn,\n",
    "                                                   mejores_hiperparametros_tree,\n",
    "                                                   mejores_hiperparametros_ADA,\n",
    "                                                   mejores_hiperparametros_extra,\n",
    "                                                   mejores_hiperparametros_random,\n",
    "                                                   mejores_hiperparametros_BG)"
   ]
  },
  {
   "cell_type": "code",
   "execution_count": null,
   "metadata": {},
   "outputs": [],
   "source": [
    "Y_pred_prueba = modelo_stacking_lineal.predict(X_tst)\n",
    "accuracy_stacking_lineal = accuracy_score(Y_tst, Y_pred_prueba)\n",
    "accuracy_stacking_lineal"
   ]
  },
  {
   "cell_type": "markdown",
   "metadata": {},
   "source": [
    "### STACKING (METAMODELO NO LINEAL)"
   ]
  },
  {
   "cell_type": "code",
   "execution_count": null,
   "metadata": {},
   "outputs": [
    {
     "name": "stdout",
     "output_type": "stream",
     "text": [
      "Rendimiento del modelo:\n",
      "Promedio de Exactitud (DATOS ENTRENAMIENTO) usando k-fold: 60.17181100789132  % \n"
     ]
    }
   ],
   "source": [
    "def entrenar_modelo_stacking_nolineal_con_transformacion(X_trn, Y_trn,\n",
    "                                                   mejores_hiperparametros_tree,\n",
    "                                                   mejores_hiperparametros_extra,\n",
    "                                                   mejores_hiperparametros_random,\n",
    "                                                   mejores_hiperparametros_BG):\n",
    "    semilla= 7 \n",
    "    kfold = StratifiedKFold(n_splits=10, random_state=semilla, shuffle=True)\n",
    "    modelo1 = ExtraTreesClassifier(**mejores_hiperparametros_extra)\n",
    "    modelo2 = RandomForestClassifier (**mejores_hiperparametros_random)\n",
    "    model = DecisionTreeClassifier(**mejores_hiperparametros_tree)\n",
    "    modelo3 = BaggingClassifier(**mejores_hiperparametros_BG)\n",
    "    modelo4 = DecisionTreeClassifier(**mejores_hiperparametros_tree)\n",
    "    estimador_final = ExtraTreesClassifier(**mejores_hiperparametros_extra)\n",
    "    metrica = 'accuracy'\n",
    "    mejor_modelo = StackingClassifier(\n",
    "    estimators=[  ('Extratrees', modelo1),('Random Forest',modelo2),('Bagging',modelo3),\n",
    "                                    ('Decision tree',modelo4)], \n",
    "                                    final_estimator=estimador_final) \n",
    "    mejor_modelo.fit(X_trn, Y_trn)\n",
    "    mejores_hiperparametros_stacking_nolineal=mejor_modelo.get_params\n",
    "    resultados = cross_val_score(mejor_modelo, X_trn, Y_trn, cv=kfold,scoring = metrica)\n",
    "    print(\"Rendimiento del modelo:\") \n",
    "    print (\"Promedio de Exactitud (DATOS ENTRENAMIENTO) usando k-fold:\", resultados.mean()*100,\" % \") \n",
    "    return mejor_modelo,mejores_hiperparametros_stacking_nolineal\n",
    "X_trn = X_trn\n",
    "Y_trn = Y_trn \n",
    "modelo_stacking_nolineal,mejores_hiperparametros_stacking_nolineal = entrenar_modelo_stacking_nolineal_con_transformacion(X_trn, Y_trn,\n",
    "                                                   mejores_hiperparametros_tree,\n",
    "                                                   mejores_hiperparametros_extra,\n",
    "                                                   mejores_hiperparametros_random,\n",
    "                                                   mejores_hiperparametros_BG)"
   ]
  },
  {
   "cell_type": "code",
   "execution_count": null,
   "metadata": {},
   "outputs": [],
   "source": [
    "Y_pred_prueba = modelo_stacking_nolineal.predict(X_tst)\n",
    "accuracy_stacking_nolineal = accuracy_score(Y_tst, Y_pred_prueba)\n",
    "accuracy_stacking_nolineal"
   ]
  },
  {
   "cell_type": "markdown",
   "metadata": {},
   "source": [
    "### VOTING WEIGHT"
   ]
  },
  {
   "cell_type": "code",
   "execution_count": null,
   "metadata": {},
   "outputs": [
    {
     "data": {
      "text/plain": [
       "0.6386138613861386"
      ]
     },
     "execution_count": 34,
     "metadata": {},
     "output_type": "execute_result"
    }
   ],
   "source": [
    "import numpy as np\n",
    "from sklearn.model_selection import KFold, cross_val_score\n",
    "from sklearn.metrics import accuracy_score\n",
    "from sklearn.ensemble import GradientBoostingClassifier, AdaBoostClassifier, ExtraTreesClassifier, RandomForestClassifier, BaggingClassifier\n",
    "from sklearn.tree import DecisionTreeClassifier\n",
    "from xgboost import XGBClassifier\n",
    "\n",
    "def weighted_voting_ensemble(X_trn, Y_trn, mejores_hiperparametros_GD,\n",
    "                            mejores_hiperparametros_tree,mejores_hiperparametros_ADA,\n",
    "                            mejores_hiperparametros_extra,mejores_hiperparametros_random,\n",
    "                            mejores_hiperparametros_BG,mejores_hiperparametros_XB):\n",
    "    X_trn_transformado = X_trn\n",
    "    modelos = [\n",
    "        GradientBoostingClassifier(**mejores_hiperparametros_GD),\n",
    "        AdaBoostClassifier(**mejores_hiperparametros_ADA),\n",
    "        ExtraTreesClassifier(**mejores_hiperparametros_extra),\n",
    "        RandomForestClassifier(**mejores_hiperparametros_random),\n",
    "        BaggingClassifier(**mejores_hiperparametros_BG),\n",
    "        DecisionTreeClassifier(**mejores_hiperparametros_tree),\n",
    "        XGBClassifier(**mejores_hiperparametros_XB)\n",
    "    ]\n",
    "    pesos = np.ones(len(modelos))\n",
    "    precisión_modelos = []\n",
    "    for modelo in modelos:\n",
    "        modelo.fit(X_trn_transformado, Y_trn)\n",
    "        precisión = np.mean(cross_val_score(modelo, X_trn_transformado, Y_trn, cv=KFold(n_splits=10, random_state=7, shuffle=True), scoring='accuracy'))\n",
    "        precisión_modelos.append(precisión)\n",
    "    suma_precisión = sum(precisión_modelos)\n",
    "    for i in range(len(precisión_modelos)):\n",
    "        pesos[i] = suma_precisión / (precisión_modelos[i] * len(modelos))\n",
    "\n",
    "    return modelos, pesos\n",
    "\n",
    "def weighted_voting_predict(modelos, pesos, X_test):\n",
    "    predicciones_modelos = [modelo.predict(X_test) for modelo in modelos]\n",
    "    pesos_float64 = np.array(pesos, dtype=np.float64)\n",
    "    predicciones_ponderadas = np.zeros_like(predicciones_modelos[0], dtype=np.float64)\n",
    "    for i, predicciones_modelo in enumerate(predicciones_modelos):\n",
    "        predicciones_ponderadas += predicciones_modelo * pesos_float64[i]\n",
    "    predicciones_ponderadas /= len(modelos)\n",
    "    predicciones_ponderadas = np.round(predicciones_ponderadas).astype(int)\n",
    "    \n",
    "    return predicciones_ponderadas\n",
    "\n",
    "modelos, pesos = weighted_voting_ensemble(X_trn, Y_trn, mejores_hiperparametros_GD,\n",
    "                            mejores_hiperparametros_tree,mejores_hiperparametros_ADA,\n",
    "                            mejores_hiperparametros_extra,mejores_hiperparametros_random,\n",
    "                            mejores_hiperparametros_BG,mejores_hiperparametros_XB)\n",
    "Y_pred_prueba= weighted_voting_predict(modelos, pesos, X_tst)\n",
    "accuracy_voting_weighted = accuracy_score(Y_tst, Y_pred_prueba)\n",
    "accuracy_voting_weighted"
   ]
  },
  {
   "cell_type": "markdown",
   "metadata": {},
   "source": [
    "### SUPER APRENDIZ"
   ]
  },
  {
   "cell_type": "code",
   "execution_count": null,
   "metadata": {},
   "outputs": [
    {
     "name": "stdout",
     "output_type": "stream",
     "text": [
      "\n",
      "Fitting 2 layers\n",
      "Processing layer-1             done | 00:00:02\n",
      "Processing layer-2             done | 00:00:00\n",
      "Fit complete                        | 00:00:02\n",
      "\n",
      "Fitting 2 layers\n",
      "Processing layer-1             done | 00:00:02\n",
      "Processing layer-2             done | 00:00:00\n",
      "Fit complete                        | 00:00:02\n",
      "\n",
      "Predicting 2 layers\n",
      "Processing layer-1             done | 00:00:00\n",
      "Processing layer-2             done | 00:00:00\n",
      "Predict complete                    | 00:00:00\n",
      "\n",
      "Fitting 2 layers\n",
      "Processing layer-1             done | 00:00:02\n",
      "Processing layer-2             done | 00:00:00\n",
      "Fit complete                        | 00:00:02\n",
      "\n",
      "Predicting 2 layers\n",
      "Processing layer-1             done | 00:00:00\n",
      "Processing layer-2             done | 00:00:00\n",
      "Predict complete                    | 00:00:00\n",
      "\n",
      "Fitting 2 layers\n",
      "Processing layer-1             done | 00:00:02\n",
      "Processing layer-2             done | 00:00:00\n",
      "Fit complete                        | 00:00:02\n",
      "\n",
      "Predicting 2 layers\n",
      "Processing layer-1             done | 00:00:00\n",
      "Processing layer-2             done | 00:00:00\n",
      "Predict complete                    | 00:00:00\n",
      "\n",
      "Fitting 2 layers\n",
      "Processing layer-1             done | 00:00:02\n",
      "Processing layer-2             done | 00:00:00\n",
      "Fit complete                        | 00:00:02\n",
      "\n",
      "Predicting 2 layers\n",
      "Processing layer-1             done | 00:00:00\n",
      "Processing layer-2             done | 00:00:00\n",
      "Predict complete                    | 00:00:00\n",
      "\n",
      "Fitting 2 layers\n",
      "Processing layer-1             done | 00:00:02\n",
      "Processing layer-2             done | 00:00:00\n",
      "Fit complete                        | 00:00:02\n",
      "\n",
      "Predicting 2 layers\n",
      "Processing layer-1             done | 00:00:00\n",
      "Processing layer-2             done | 00:00:00\n",
      "Predict complete                    | 00:00:00\n",
      "\n",
      "Fitting 2 layers\n",
      "Processing layer-1             done | 00:00:02\n",
      "Processing layer-2             done | 00:00:00\n",
      "Fit complete                        | 00:00:02\n",
      "\n",
      "Predicting 2 layers\n",
      "Processing layer-1             done | 00:00:00\n",
      "Processing layer-2             done | 00:00:00\n",
      "Predict complete                    | 00:00:00\n",
      "\n",
      "Fitting 2 layers\n",
      "Processing layer-1             done | 00:00:02\n",
      "Processing layer-2             done | 00:00:00\n",
      "Fit complete                        | 00:00:02\n",
      "\n",
      "Predicting 2 layers\n",
      "Processing layer-1             done | 00:00:00\n",
      "Processing layer-2             done | 00:00:00\n",
      "Predict complete                    | 00:00:00\n",
      "\n",
      "Fitting 2 layers\n",
      "Processing layer-1             done | 00:00:02\n",
      "Processing layer-2             done | 00:00:00\n",
      "Fit complete                        | 00:00:02\n",
      "\n",
      "Predicting 2 layers\n",
      "Processing layer-1             done | 00:00:00\n",
      "Processing layer-2             done | 00:00:00\n",
      "Predict complete                    | 00:00:00\n",
      "\n",
      "Fitting 2 layers\n",
      "Processing layer-1             done | 00:00:02\n",
      "Processing layer-2             done | 00:00:00\n",
      "Fit complete                        | 00:00:02\n",
      "\n",
      "Predicting 2 layers\n",
      "Processing layer-1             done | 00:00:00\n",
      "Processing layer-2             done | 00:00:00\n",
      "Predict complete                    | 00:00:00\n",
      "\n",
      "Fitting 2 layers\n",
      "Processing layer-1             done | 00:00:02\n",
      "Processing layer-2             done | 00:00:00\n",
      "Fit complete                        | 00:00:02\n",
      "\n",
      "Predicting 2 layers\n",
      "Processing layer-1             done | 00:00:00\n",
      "Processing layer-2             done | 00:00:00\n",
      "Predict complete                    | 00:00:00\n",
      "Rendimiento del modelo:\n",
      "Promedio de Exactitud (DATOS ENTRENAMIENTO) usando k-fold: 61.798521626211155 %\n"
     ]
    }
   ],
   "source": [
    "def entrenar_modelo_super_aprendiz(X_trn, Y_trn, \n",
    "                            mejores_hiperparametros_tree,mejores_hiperparametros_extra,\n",
    "                            mejores_hiperparametros_random):\n",
    "    X_trn_transformado = X_trn\n",
    "    semilla = 5 \n",
    "    kfold = StratifiedKFold(n_splits=10, random_state=semilla, shuffle=True)\n",
    "    modelo1 = ExtraTreesClassifier(**mejores_hiperparametros_extra)\n",
    "    modelo2 = RandomForestClassifier(**mejores_hiperparametros_random)\n",
    "    model = DecisionTreeClassifier(**mejores_hiperparametros_tree)\n",
    "    modelo4 = DecisionTreeClassifier(**mejores_hiperparametros_tree)\n",
    "    estimadores = [('Extratrees', modelo1), ('Random Forest', modelo2),('DecisionTree',modelo4)\n",
    "                ]\n",
    "    super_learner = SuperLearner(folds=10, random_state=semilla, verbose=2)\n",
    "    super_learner.add(estimadores)\n",
    "    estimador_final = ExtraTreesClassifier(n_estimators=100, max_features=None,\n",
    "                                        bootstrap=False, max_depth=11, min_samples_split=4, \n",
    "                                        min_samples_leaf=1)\n",
    "    super_learner.add_meta(estimador_final)\n",
    "    super_learner.fit(X_trn_transformado, Y_trn)\n",
    "    mejores_hiperparametros_super_learner=super_learner.get_params\n",
    "    resultados = cross_val_score(super_learner, X_trn_transformado, Y_trn, cv=kfold, scoring='accuracy')\n",
    "    print(\"Rendimiento del modelo:\") \n",
    "    print(\"Promedio de Exactitud (DATOS ENTRENAMIENTO) usando k-fold:\", resultados.mean() * 100, \"%\") \n",
    "    return super_learner,mejores_hiperparametros_super_learner,estimadores\n",
    "modelo_superaprendiz,mejores_hiperparametros_super_learner,estimadores = entrenar_modelo_super_aprendiz(X_trn, Y_trn,\n",
    "                            mejores_hiperparametros_tree,mejores_hiperparametros_extra,\n",
    "                            mejores_hiperparametros_random)"
   ]
  },
  {
   "cell_type": "code",
   "execution_count": null,
   "metadata": {},
   "outputs": [],
   "source": [
    "Y_pred_prueba = modelo_superaprendiz.predict(X_tst)\n",
    "accuracy_superaprendiz = accuracy_score(Y_tst, Y_pred_prueba)\n",
    "accuracy_superaprendiz"
   ]
  },
  {
   "cell_type": "markdown",
   "metadata": {},
   "source": [
    "### SUPER APRENDIZ DOS CAPAS"
   ]
  },
  {
   "cell_type": "code",
   "execution_count": null,
   "metadata": {},
   "outputs": [
    {
     "name": "stdout",
     "output_type": "stream",
     "text": [
      "\n",
      "Fitting 3 layers\n",
      "Processing layer-1             done | 00:00:02\n",
      "Processing layer-2             done | 00:00:02\n",
      "Processing layer-3             done | 00:00:00\n",
      "Fit complete                        | 00:00:04\n",
      "\n",
      "Fitting 3 layers\n",
      "Processing layer-1             done | 00:00:02\n",
      "Processing layer-2             done | 00:00:02\n",
      "Processing layer-3             done | 00:00:00\n",
      "Fit complete                        | 00:00:04\n",
      "\n",
      "Predicting 3 layers\n",
      "Processing layer-1             done | 00:00:00\n",
      "Processing layer-2             done | 00:00:00\n",
      "Processing layer-3             done | 00:00:00\n",
      "Predict complete                    | 00:00:00\n",
      "\n",
      "Fitting 3 layers\n",
      "Processing layer-1             done | 00:00:02\n",
      "Processing layer-2             done | 00:00:01\n",
      "Processing layer-3             done | 00:00:00\n",
      "Fit complete                        | 00:00:04\n",
      "\n",
      "Predicting 3 layers\n",
      "Processing layer-1             done | 00:00:00\n",
      "Processing layer-2             done | 00:00:00\n",
      "Processing layer-3             done | 00:00:00\n",
      "Predict complete                    | 00:00:00\n",
      "\n",
      "Fitting 3 layers\n",
      "Processing layer-1             done | 00:00:02\n",
      "Processing layer-2             done | 00:00:02\n",
      "Processing layer-3             done | 00:00:00\n",
      "Fit complete                        | 00:00:04\n",
      "\n",
      "Predicting 3 layers\n",
      "Processing layer-1             done | 00:00:00\n",
      "Processing layer-2             done | 00:00:00\n",
      "Processing layer-3             done | 00:00:00\n",
      "Predict complete                    | 00:00:00\n",
      "\n",
      "Fitting 3 layers\n",
      "Processing layer-1             done | 00:00:02\n",
      "Processing layer-2             done | 00:00:02\n",
      "Processing layer-3             done | 00:00:00\n",
      "Fit complete                        | 00:00:04\n",
      "\n",
      "Predicting 3 layers\n",
      "Processing layer-1             done | 00:00:00\n",
      "Processing layer-2             done | 00:00:00\n",
      "Processing layer-3             done | 00:00:00\n",
      "Predict complete                    | 00:00:00\n",
      "\n",
      "Fitting 3 layers\n",
      "Processing layer-1             done | 00:00:02\n",
      "Processing layer-2             done | 00:00:01\n",
      "Processing layer-3             done | 00:00:00\n",
      "Fit complete                        | 00:00:04\n",
      "\n",
      "Predicting 3 layers\n",
      "Processing layer-1             done | 00:00:00\n",
      "Processing layer-2             done | 00:00:00\n",
      "Processing layer-3             done | 00:00:00\n",
      "Predict complete                    | 00:00:00\n",
      "\n",
      "Fitting 3 layers\n",
      "Processing layer-1             done | 00:00:02\n",
      "Processing layer-2             done | 00:00:02\n",
      "Processing layer-3             done | 00:00:00\n",
      "Fit complete                        | 00:00:04\n",
      "\n",
      "Predicting 3 layers\n",
      "Processing layer-1             done | 00:00:00\n",
      "Processing layer-2             done | 00:00:00\n",
      "Processing layer-3             done | 00:00:00\n",
      "Predict complete                    | 00:00:00\n",
      "\n",
      "Fitting 3 layers\n",
      "Processing layer-1             done | 00:00:02\n",
      "Processing layer-2             done | 00:00:01\n",
      "Processing layer-3             done | 00:00:00\n",
      "Fit complete                        | 00:00:04\n",
      "\n",
      "Predicting 3 layers\n",
      "Processing layer-1             done | 00:00:00\n",
      "Processing layer-2             done | 00:00:00\n",
      "Processing layer-3             done | 00:00:00\n",
      "Predict complete                    | 00:00:00\n",
      "\n",
      "Fitting 3 layers\n",
      "Processing layer-1             done | 00:00:02\n",
      "Processing layer-2             done | 00:00:01\n",
      "Processing layer-3             done | 00:00:00\n",
      "Fit complete                        | 00:00:04\n",
      "\n",
      "Predicting 3 layers\n",
      "Processing layer-1             done | 00:00:00\n",
      "Processing layer-2             done | 00:00:00\n",
      "Processing layer-3             done | 00:00:00\n",
      "Predict complete                    | 00:00:00\n",
      "\n",
      "Fitting 3 layers\n",
      "Processing layer-1             done | 00:00:02\n",
      "Processing layer-2             done | 00:00:02\n",
      "Processing layer-3             done | 00:00:00\n",
      "Fit complete                        | 00:00:04\n",
      "\n",
      "Predicting 3 layers\n",
      "Processing layer-1             done | 00:00:00\n",
      "Processing layer-2             done | 00:00:00\n",
      "Processing layer-3             done | 00:00:00\n",
      "Predict complete                    | 00:00:00\n",
      "\n",
      "Fitting 3 layers\n",
      "Processing layer-1             done | 00:00:02\n",
      "Processing layer-2             done | 00:00:02\n",
      "Processing layer-3             done | 00:00:00\n",
      "Fit complete                        | 00:00:04\n",
      "\n",
      "Predicting 3 layers\n",
      "Processing layer-1             done | 00:00:00\n",
      "Processing layer-2             done | 00:00:00\n",
      "Processing layer-3             done | 00:00:00\n",
      "Predict complete                    | 00:00:00\n",
      "Rendimiento del modelo:\n",
      "Promedio de Exactitud (DATOS ENTRENAMIENTO) usando k-fold: 60.94995504944561 %\n"
     ]
    }
   ],
   "source": [
    "Y_trn = Y_trn.astype(int)\n",
    "def entrenar_modelo_super_aprendiz_dos_capas(X_trn, Y_trn, mejores_hiperparametros_tree,\n",
    "                                            mejores_hiperparametros_extra,mejores_hiperparametros_random\n",
    "                                            ):\n",
    "    X_trn_transformado = X_trn\n",
    "    semilla = 7 \n",
    "    kfold = StratifiedKFold(n_splits=10, random_state=semilla, shuffle=True)\n",
    "    modelo1 = ExtraTreesClassifier(**mejores_hiperparametros_extra)\n",
    "    modelo2 = RandomForestClassifier(**mejores_hiperparametros_random)\n",
    "    model = DecisionTreeClassifier(**mejores_hiperparametros_tree)\n",
    "    estimadores = [('Extratrees', modelo1), ('Random Forest', modelo2)\n",
    "                 ]\n",
    "    superaprendiz_dos_capas = SuperLearner(folds=10, random_state=semilla, verbose=2)\n",
    "    superaprendiz_dos_capas.add(estimadores)\n",
    "    superaprendiz_dos_capas.add(estimadores)\n",
    "    estimador_final = ExtraTreesClassifier(n_estimators=100, max_features=None,\n",
    "                                        bootstrap=False, max_depth=11, min_samples_split=4, \n",
    "                                        min_samples_leaf=1)\n",
    "    superaprendiz_dos_capas.add_meta(estimador_final)\n",
    "    \n",
    "    superaprendiz_dos_capas.fit(X_trn_transformado, Y_trn)\n",
    "    mejores_hiperparametros_superaprendiz_dos_capas=superaprendiz_dos_capas.get_params\n",
    "    resultados = cross_val_score(superaprendiz_dos_capas, X_trn_transformado, Y_trn, cv=kfold, scoring='accuracy')\n",
    "    print(\"Rendimiento del modelo:\") \n",
    "    print(\"Promedio de Exactitud (DATOS ENTRENAMIENTO) usando k-fold:\", resultados.mean() * 100, \"%\") \n",
    "    return superaprendiz_dos_capas,mejores_hiperparametros_superaprendiz_dos_capas,estimadores\n",
    "modelo_superaprendiz_dos_capas,mejores_hiperparametros_superaprendiz_dos_capas,estimadores = entrenar_modelo_super_aprendiz_dos_capas(X_trn, Y_trn, mejores_hiperparametros_tree,\n",
    "                                            mejores_hiperparametros_extra,mejores_hiperparametros_random)"
   ]
  },
  {
   "cell_type": "code",
   "execution_count": null,
   "metadata": {},
   "outputs": [],
   "source": [
    "Y_pred_prueba = modelo_superaprendiz_dos_capas.predict(X_tst)\n",
    "accuracy_superaprendiz_dos_capas = accuracy_score(Y_tst, Y_pred_prueba)\n",
    "accuracy_superaprendiz_dos_capas"
   ]
  },
  {
   "cell_type": "markdown",
   "metadata": {},
   "source": [
    "### RED NEURONAL"
   ]
  },
  {
   "cell_type": "code",
   "execution_count": null,
   "metadata": {},
   "outputs": [
    {
     "name": "stdout",
     "output_type": "stream",
     "text": [
      "Epoch [10/100], Loss: 1.1839\n",
      "Epoch [20/100], Loss: 0.9515\n",
      "Epoch [30/100], Loss: 0.8843\n",
      "Epoch [40/100], Loss: 0.8634\n",
      "Epoch [50/100], Loss: 0.8523\n",
      "Epoch [60/100], Loss: 0.8437\n",
      "Epoch [70/100], Loss: 0.8377\n",
      "Epoch [80/100], Loss: 0.8338\n",
      "Epoch [90/100], Loss: 0.8309\n",
      "Epoch [100/100], Loss: 0.8284\n",
      "Accuracy: 63.04%\n",
      "Precisión:  0.5519672135280754\n",
      "Exhaustividad (Recall):  0.6303630363036303\n",
      "Puntuación F1:  0.5029070737368388\n"
     ]
    }
   ],
   "source": [
    "import torch\n",
    "import torch.nn as nn\n",
    "import torch.optim as optim\n",
    "from sklearn.metrics import accuracy_score, precision_score, recall_score, f1_score\n",
    "np.random.seed(42)\n",
    "\n",
    "torch.manual_seed(42)\n",
    "torch.cuda.manual_seed(42)\n",
    "class NeuralNetwork(nn.Module):\n",
    "    def __init__(self, input_size, hidden_size, num_classes):\n",
    "        super(NeuralNetwork, self).__init__()\n",
    "        self.fc1 = nn.Linear(input_size, hidden_size)\n",
    "        self.relu = nn.ReLU()\n",
    "        self.fc2 = nn.Linear(hidden_size, num_classes)\n",
    "    \n",
    "    def forward(self, x):\n",
    "        out = self.fc1(x)\n",
    "        out = self.relu(out)\n",
    "        out = self.fc2(out)\n",
    "        return out\n",
    "\n",
    "def train_neural_network(X_train, y_train, input_size, hidden_size, num_classes, num_epochs=100, learning_rate=0.0015):\n",
    "    # Convertir datos de entrenamiento a tensores de PyTorch\n",
    "    X_train_tensor = torch.tensor(X_train, dtype=torch.float32)\n",
    "    y_train_tensor = torch.tensor(y_train, dtype=torch.long)\n",
    "    # Inicializar modelo y función de pérdida\n",
    "    model = NeuralNetwork(input_size, hidden_size, num_classes)\n",
    "    criterion = nn.CrossEntropyLoss()\n",
    "    optimizer = optim.Adam(model.parameters(), lr=learning_rate)\n",
    "    # Entrenamiento del modelo\n",
    "    for epoch in range(num_epochs):\n",
    "        # Forward pass y pérdida\n",
    "        outputs = model(X_train_tensor)\n",
    "        loss = criterion(outputs, y_train_tensor)\n",
    "        # Backward pass y optimización\n",
    "        optimizer.zero_grad()\n",
    "        loss.backward()\n",
    "        optimizer.step()\n",
    "        \n",
    "        if (epoch+1) % 10 == 0:\n",
    "            print ('Epoch [{}/{}], Loss: {:.4f}'.format(epoch+1, num_epochs, loss.item()))\n",
    "    return model,num_epochs,learning_rate\n",
    "\n",
    "def evaluate_model(model, X_test, y_test):\n",
    "    # Convertir datos de prueba a tensores de PyTorch\n",
    "    X_test_tensor = torch.tensor(X_test, dtype=torch.float32)\n",
    "    y_test_tensor = torch.tensor(y_test, dtype=torch.long)\n",
    "\n",
    "    # Obtener las predicciones del modelo\n",
    "    outputs = model(X_test_tensor)\n",
    "    _, predicted = torch.max(outputs, 1)\n",
    "\n",
    "    # Calcular las métricas del modelo\n",
    "    accuracy = accuracy_score(y_test_tensor.numpy(), predicted.numpy())\n",
    "    precision = precision_score(y_test, predicted.numpy(), average='weighted')\n",
    "    recall = recall_score(y_test, predicted.numpy(), average='weighted')\n",
    "    f1 = f1_score(y_test, predicted.numpy(), average='weighted')\n",
    "\n",
    "    print('Accuracy: {:.2f}%'.format(accuracy * 100))\n",
    "    print(\"Precisión: \", precision)\n",
    "    print(\"Exhaustividad (Recall): \", recall)\n",
    "    print(\"Puntuación F1: \", f1)\n",
    "\n",
    "X_train_array = X_trn.values\n",
    "X_test_array = X_tst.values\n",
    "Y_trn = Y_trn \n",
    "input_size = X_trn.shape[1]\n",
    "num_classes = 5\n",
    "hidden_size =155\n",
    "\n",
    "# Supongamos que X_train, y_train, X_test, y_test son tus datos de entrenamiento y prueba\n",
    "modelo_red_reuronal,num_epochs,learning_rate = train_neural_network(X_train_array , Y_trn, input_size, hidden_size, num_classes)\n",
    "evaluate_model(modelo_red_reuronal, X_test_array , Y_tst)"
   ]
  },
  {
   "cell_type": "code",
   "execution_count": null,
   "metadata": {},
   "outputs": [],
   "source": [
    "X_test_tensor = torch.tensor(X_test_array, dtype=torch.float32)\n",
    "outputs = modelo_red_reuronal(X_test_tensor)\n",
    "_, predicted = torch.max(outputs, 1)\n",
    "Y_pred_prueba = predicted.numpy()\n",
    "accuracy_red_neuronal = accuracy_score(Y_tst, Y_pred_prueba)\n",
    "accuracy_red_neuronal"
   ]
  },
  {
   "cell_type": "code",
   "execution_count": null,
   "metadata": {},
   "outputs": [
    {
     "ename": "NameError",
     "evalue": "name 'accuracy_knn' is not defined",
     "output_type": "error",
     "traceback": [
      "\u001b[1;31m---------------------------------------------------------------------------\u001b[0m",
      "\u001b[1;31mNameError\u001b[0m                                 Traceback (most recent call last)",
      "Cell \u001b[1;32mIn[38], line 2\u001b[0m\n\u001b[0;32m      1\u001b[0m exactitudes \u001b[38;5;241m=\u001b[39m {\n\u001b[1;32m----> 2\u001b[0m     \u001b[38;5;124m'\u001b[39m\u001b[38;5;124mKNEIGHBORSCLASSIFIER\u001b[39m\u001b[38;5;124m'\u001b[39m: \u001b[43maccuracy_knn\u001b[49m,\n\u001b[0;32m      3\u001b[0m     \u001b[38;5;124m'\u001b[39m\u001b[38;5;124mSVC\u001b[39m\u001b[38;5;124m'\u001b[39m: accuracy_svc,\n\u001b[0;32m      4\u001b[0m     \u001b[38;5;124m'\u001b[39m\u001b[38;5;124mDECISION TREE\u001b[39m\u001b[38;5;124m'\u001b[39m: accuracy_tree,\n\u001b[0;32m      5\u001b[0m     \u001b[38;5;124m'\u001b[39m\u001b[38;5;124mNAIVE BAYES\u001b[39m\u001b[38;5;124m'\u001b[39m:accuracy_gaussian,\n\u001b[0;32m      6\u001b[0m     \u001b[38;5;124m'\u001b[39m\u001b[38;5;124mLDA\u001b[39m\u001b[38;5;124m'\u001b[39m:accuracy_LDA,\n\u001b[0;32m      7\u001b[0m     \u001b[38;5;124m'\u001b[39m\u001b[38;5;124mBAGGING\u001b[39m\u001b[38;5;124m'\u001b[39m:accuracy_BG,\n\u001b[0;32m      8\u001b[0m     \u001b[38;5;124m'\u001b[39m\u001b[38;5;124mRANDOM FOREST\u001b[39m\u001b[38;5;124m'\u001b[39m:accuracy_random,\n\u001b[0;32m      9\u001b[0m     \u001b[38;5;124m'\u001b[39m\u001b[38;5;124mEXTRATREES\u001b[39m\u001b[38;5;124m'\u001b[39m:accuracy_extra,\n\u001b[0;32m     10\u001b[0m     \u001b[38;5;124m'\u001b[39m\u001b[38;5;124mADABOOST\u001b[39m\u001b[38;5;124m'\u001b[39m:accuracy_ADA,\n\u001b[0;32m     11\u001b[0m     \u001b[38;5;124m'\u001b[39m\u001b[38;5;124mGRADIENTBOOST\u001b[39m\u001b[38;5;124m'\u001b[39m: accuracy_GD,\n\u001b[0;32m     12\u001b[0m     \u001b[38;5;124m'\u001b[39m\u001b[38;5;124mXGBOOST\u001b[39m\u001b[38;5;124m'\u001b[39m:accuracy_XB,\n\u001b[0;32m     13\u001b[0m     \u001b[38;5;124m'\u001b[39m\u001b[38;5;124mCATBOOST\u001b[39m\u001b[38;5;124m'\u001b[39m:accuracy_CB,\n\u001b[0;32m     14\u001b[0m     \u001b[38;5;124m'\u001b[39m\u001b[38;5;124mLIGHT\u001b[39m\u001b[38;5;124m'\u001b[39m:accuracy_LIGHT,\n\u001b[0;32m     15\u001b[0m     \u001b[38;5;124m'\u001b[39m\u001b[38;5;124mVOTING HARD\u001b[39m\u001b[38;5;124m'\u001b[39m:accuracy_voting_hard,\n\u001b[0;32m     16\u001b[0m     \u001b[38;5;124m'\u001b[39m\u001b[38;5;124mVOTING SOFT\u001b[39m\u001b[38;5;124m'\u001b[39m:accuracy_voting_soft,\n\u001b[0;32m     17\u001b[0m     \u001b[38;5;124m'\u001b[39m\u001b[38;5;124mSTACKING LINEAL\u001b[39m\u001b[38;5;124m'\u001b[39m:accuracy_stacking_lineal,\n\u001b[0;32m     18\u001b[0m     \u001b[38;5;124m'\u001b[39m\u001b[38;5;124mSTACKING NO LINEAL\u001b[39m\u001b[38;5;124m'\u001b[39m:accuracy_stacking_nolineal,\n\u001b[0;32m     19\u001b[0m     \u001b[38;5;124m'\u001b[39m\u001b[38;5;124mVOTING WEIGHTED\u001b[39m\u001b[38;5;124m'\u001b[39m:accuracy_voting_weighted,\n\u001b[0;32m     20\u001b[0m     \u001b[38;5;124m'\u001b[39m\u001b[38;5;124mSUPER APRENDIZ\u001b[39m\u001b[38;5;124m'\u001b[39m:accuracy_superaprendiz,\n\u001b[0;32m     21\u001b[0m     \u001b[38;5;124m'\u001b[39m\u001b[38;5;124mSUPER APRENDIZ DOS CAPAS\u001b[39m\u001b[38;5;124m'\u001b[39m:accuracy_superaprendiz_dos_capas,\n\u001b[0;32m     22\u001b[0m     \u001b[38;5;124m'\u001b[39m\u001b[38;5;124mRED NEURONAL\u001b[39m\u001b[38;5;124m'\u001b[39m:accuracy_red_neuronal\n\u001b[0;32m     23\u001b[0m }\n\u001b[0;32m     24\u001b[0m mejor_modelo \u001b[38;5;241m=\u001b[39m \u001b[38;5;28mmax\u001b[39m(exactitudes, key\u001b[38;5;241m=\u001b[39mexactitudes\u001b[38;5;241m.\u001b[39mget)\n",
      "\u001b[1;31mNameError\u001b[0m: name 'accuracy_knn' is not defined"
     ]
    }
   ],
   "source": [
    "exactitudes = {\n",
    "    'KNEIGHBORSCLASSIFIER': accuracy_knn,\n",
    "    'SVC': accuracy_svc,\n",
    "    'DECISION TREE': accuracy_tree,\n",
    "    'NAIVE BAYES':accuracy_gaussian,\n",
    "    'LDA':accuracy_LDA,\n",
    "    'BAGGING':accuracy_BG,\n",
    "    'RANDOM FOREST':accuracy_random,\n",
    "    'EXTRATREES':accuracy_extra,\n",
    "    'ADABOOST':accuracy_ADA,\n",
    "    'GRADIENTBOOST': accuracy_GD,\n",
    "    'XGBOOST':accuracy_XB,\n",
    "    'CATBOOST':accuracy_CB,\n",
    "    'LIGHT':accuracy_LIGHT,\n",
    "    'VOTING HARD':accuracy_voting_hard,\n",
    "    'VOTING SOFT':accuracy_voting_soft,\n",
    "    'STACKING LINEAL':accuracy_stacking_lineal,\n",
    "    'STACKING NO LINEAL':accuracy_stacking_nolineal,\n",
    "    'VOTING WEIGHTED':accuracy_voting_weighted,\n",
    "    'SUPER APRENDIZ':accuracy_superaprendiz,\n",
    "    'SUPER APRENDIZ DOS CAPAS':accuracy_superaprendiz_dos_capas,\n",
    "    'RED NEURONAL':accuracy_red_neuronal\n",
    "}\n",
    "mejor_modelo = max(exactitudes, key=exactitudes.get)"
   ]
  },
  {
   "cell_type": "code",
   "execution_count": null,
   "metadata": {},
   "outputs": [
    {
     "data": {
      "text/plain": [
       "array([2, 2, 1, 2, 2, 2, 2, 2, 2, 2, 2, 2, 2, 2, 2, 1, 2, 2, 2, 2, 2, 2,\n",
       "       1, 1, 2, 2, 2, 2, 2, 2, 2, 2, 2, 2, 2, 2, 2, 2, 2, 2, 2, 2, 2, 2,\n",
       "       2, 2, 2, 1, 2, 2, 1, 2, 2, 2, 2, 2, 2, 2, 2, 2, 2, 2, 2, 2, 2, 2,\n",
       "       2, 2, 2, 2, 2, 2, 2, 2, 2, 2, 2, 2, 2, 2, 2, 2, 2, 2, 2, 2, 2, 2,\n",
       "       2, 2, 2, 1, 1, 2, 1, 2, 2, 2, 2, 1, 2, 2, 1, 2, 2, 2, 2, 2, 2, 1,\n",
       "       2, 2, 2, 2, 2, 2, 2, 2, 2, 2, 2, 2, 2, 2, 2, 2, 2, 1, 2, 2, 2, 2,\n",
       "       2, 2, 1, 2, 2, 2, 2, 2, 2, 1, 2, 2, 1, 1, 2, 2, 2, 2, 2, 2, 2, 1,\n",
       "       2, 2, 2, 2, 2, 2, 2, 2, 2, 2, 2, 1, 2, 2, 2, 1, 2, 2, 2, 2, 2, 2,\n",
       "       2, 2, 2, 2, 2, 2, 2, 2, 2, 1, 1, 2, 2, 2, 2, 1, 1, 2, 1, 1, 2, 1,\n",
       "       1, 2, 2, 2, 1, 2, 2, 1, 2, 2, 2, 2, 2, 2, 2, 2, 2, 2, 2, 1, 1, 2,\n",
       "       2, 2, 2, 2, 2, 2, 2, 1, 2, 2, 2, 2, 2, 2, 2, 2, 2, 2, 2, 1, 2, 1,\n",
       "       2, 2, 2, 2, 2, 1, 2, 2, 1, 2, 2, 2, 2, 1, 1, 2, 2, 2, 2, 2, 1, 1,\n",
       "       2, 2, 2, 2, 1, 2, 2, 1, 2, 2, 2, 2, 2, 2, 2, 2, 1, 2, 1, 1, 2, 1,\n",
       "       2, 2, 2, 2, 2, 2, 2, 2, 2, 1, 2, 2, 2, 2, 2, 2, 2, 2, 2, 2, 1, 2,\n",
       "       2, 2, 2, 2, 2, 2, 2, 2, 2, 2, 1, 2, 2, 2, 1, 2, 2, 2, 2, 2, 2])"
      ]
     },
     "execution_count": 15,
     "metadata": {},
     "output_type": "execute_result"
    }
   ],
   "source": [
    "predicciones_nuevos_datos = modelo_knn.predict(Xpandas_T_JOHNSON2)\n",
    "predicciones_nuevos_datos"
   ]
  },
  {
   "cell_type": "code",
   "execution_count": null,
   "metadata": {},
   "outputs": [],
   "source": [
    "df_prediccion[f'RENDIMIENTO_{semestre_en_letras.upper()}']=predicciones_nuevos_datos"
   ]
  },
  {
   "cell_type": "code",
   "execution_count": null,
   "metadata": {},
   "outputs": [
    {
     "data": {
      "text/html": [
       "<div>\n",
       "<style scoped>\n",
       "    .dataframe tbody tr th:only-of-type {\n",
       "        vertical-align: middle;\n",
       "    }\n",
       "\n",
       "    .dataframe tbody tr th {\n",
       "        vertical-align: top;\n",
       "    }\n",
       "\n",
       "    .dataframe thead th {\n",
       "        text-align: right;\n",
       "    }\n",
       "</style>\n",
       "<table border=\"1\" class=\"dataframe\">\n",
       "  <thead>\n",
       "    <tr style=\"text-align: right;\">\n",
       "      <th></th>\n",
       "      <th>PG_ICFES</th>\n",
       "      <th>CON_MAT_ICFES</th>\n",
       "      <th>FISICA_ICFES</th>\n",
       "      <th>QUIMICA_ICFES</th>\n",
       "      <th>IDIOMA_ICFES</th>\n",
       "      <th>LOCALIDAD</th>\n",
       "      <th>RENDIMIENTO_UNO</th>\n",
       "    </tr>\n",
       "  </thead>\n",
       "  <tbody>\n",
       "    <tr>\n",
       "      <th>0</th>\n",
       "      <td>419</td>\n",
       "      <td>65</td>\n",
       "      <td>60</td>\n",
       "      <td>66</td>\n",
       "      <td>75</td>\n",
       "      <td>20</td>\n",
       "      <td>2</td>\n",
       "    </tr>\n",
       "    <tr>\n",
       "      <th>1</th>\n",
       "      <td>425</td>\n",
       "      <td>72</td>\n",
       "      <td>65</td>\n",
       "      <td>55</td>\n",
       "      <td>65</td>\n",
       "      <td>15</td>\n",
       "      <td>2</td>\n",
       "    </tr>\n",
       "    <tr>\n",
       "      <th>2</th>\n",
       "      <td>425</td>\n",
       "      <td>76</td>\n",
       "      <td>60</td>\n",
       "      <td>59</td>\n",
       "      <td>50</td>\n",
       "      <td>9</td>\n",
       "      <td>1</td>\n",
       "    </tr>\n",
       "    <tr>\n",
       "      <th>3</th>\n",
       "      <td>454</td>\n",
       "      <td>79</td>\n",
       "      <td>62</td>\n",
       "      <td>65</td>\n",
       "      <td>83</td>\n",
       "      <td>10</td>\n",
       "      <td>2</td>\n",
       "    </tr>\n",
       "    <tr>\n",
       "      <th>4</th>\n",
       "      <td>523</td>\n",
       "      <td>99</td>\n",
       "      <td>69</td>\n",
       "      <td>78</td>\n",
       "      <td>60</td>\n",
       "      <td>1</td>\n",
       "      <td>2</td>\n",
       "    </tr>\n",
       "    <tr>\n",
       "      <th>...</th>\n",
       "      <td>...</td>\n",
       "      <td>...</td>\n",
       "      <td>...</td>\n",
       "      <td>...</td>\n",
       "      <td>...</td>\n",
       "      <td>...</td>\n",
       "      <td>...</td>\n",
       "    </tr>\n",
       "    <tr>\n",
       "      <th>324</th>\n",
       "      <td>451</td>\n",
       "      <td>67</td>\n",
       "      <td>64</td>\n",
       "      <td>65</td>\n",
       "      <td>83</td>\n",
       "      <td>11</td>\n",
       "      <td>2</td>\n",
       "    </tr>\n",
       "    <tr>\n",
       "      <th>325</th>\n",
       "      <td>437</td>\n",
       "      <td>74</td>\n",
       "      <td>62</td>\n",
       "      <td>57</td>\n",
       "      <td>56</td>\n",
       "      <td>19</td>\n",
       "      <td>2</td>\n",
       "    </tr>\n",
       "    <tr>\n",
       "      <th>326</th>\n",
       "      <td>429</td>\n",
       "      <td>77</td>\n",
       "      <td>62</td>\n",
       "      <td>59</td>\n",
       "      <td>68</td>\n",
       "      <td>8</td>\n",
       "      <td>2</td>\n",
       "    </tr>\n",
       "    <tr>\n",
       "      <th>327</th>\n",
       "      <td>429</td>\n",
       "      <td>90</td>\n",
       "      <td>52</td>\n",
       "      <td>58</td>\n",
       "      <td>50</td>\n",
       "      <td>8</td>\n",
       "      <td>2</td>\n",
       "    </tr>\n",
       "    <tr>\n",
       "      <th>328</th>\n",
       "      <td>439</td>\n",
       "      <td>77</td>\n",
       "      <td>61</td>\n",
       "      <td>56</td>\n",
       "      <td>57</td>\n",
       "      <td>11</td>\n",
       "      <td>2</td>\n",
       "    </tr>\n",
       "  </tbody>\n",
       "</table>\n",
       "<p>329 rows × 7 columns</p>\n",
       "</div>"
      ],
      "text/plain": [
       "     PG_ICFES  CON_MAT_ICFES  FISICA_ICFES  QUIMICA_ICFES  IDIOMA_ICFES  \\\n",
       "0         419             65            60             66            75   \n",
       "1         425             72            65             55            65   \n",
       "2         425             76            60             59            50   \n",
       "3         454             79            62             65            83   \n",
       "4         523             99            69             78            60   \n",
       "..        ...            ...           ...            ...           ...   \n",
       "324       451             67            64             65            83   \n",
       "325       437             74            62             57            56   \n",
       "326       429             77            62             59            68   \n",
       "327       429             90            52             58            50   \n",
       "328       439             77            61             56            57   \n",
       "\n",
       "     LOCALIDAD  RENDIMIENTO_UNO  \n",
       "0           20                2  \n",
       "1           15                2  \n",
       "2            9                1  \n",
       "3           10                2  \n",
       "4            1                2  \n",
       "..         ...              ...  \n",
       "324         11                2  \n",
       "325         19                2  \n",
       "326          8                2  \n",
       "327          8                2  \n",
       "328         11                2  \n",
       "\n",
       "[329 rows x 7 columns]"
      ]
     },
     "execution_count": 17,
     "metadata": {},
     "output_type": "execute_result"
    }
   ],
   "source": [
    "df_prediccion"
   ]
  }
 ],
 "metadata": {
  "kernelspec": {
   "display_name": "Python 3",
   "language": "python",
   "name": "python3"
  },
  "language_info": {
   "codemirror_mode": {
    "name": "ipython",
    "version": 3
   },
   "file_extension": ".py",
   "mimetype": "text/x-python",
   "name": "python",
   "nbconvert_exporter": "python",
   "pygments_lexer": "ipython3",
   "version": "3.11.9"
  }
 },
 "nbformat": 4,
 "nbformat_minor": 2
}
